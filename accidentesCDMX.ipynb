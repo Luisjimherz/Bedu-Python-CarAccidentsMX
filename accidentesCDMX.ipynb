{
 "cells": [
  {
   "cell_type": "markdown",
   "metadata": {},
   "source": [
    "# Importación de datos"
   ]
  },
  {
   "cell_type": "code",
   "execution_count": 6,
   "metadata": {},
   "outputs": [],
   "source": [
    "import pandas as pd"
   ]
  },
  {
   "cell_type": "code",
   "execution_count": 7,
   "metadata": {},
   "outputs": [
    {
     "output_type": "execute_result",
     "data": {
      "text/plain": [
       "             folio fecha_creacion hora_creacion dia_semana  \\\n",
       "0  C5/170622/06952     22/06/2017      20:34:45     Jueves   \n",
       "1  C5/170622/05115     22/06/2017      16:41:14     Jueves   \n",
       "2  C5/170622/03715     22/06/2017      13:44:52     Jueves   \n",
       "3  C5/170622/05317     22/06/2017      17:08:58     Jueves   \n",
       "4  C5/170622/05348     22/06/2017      17:12:38     Jueves   \n",
       "\n",
       "                                       codigo_cierre fecha_cierre  año_cierre  \\\n",
       "0  (D) El incidente reportado se registró en dos ...   22/06/2017        2017   \n",
       "1  (D) El incidente reportado se registró en dos ...   22/06/2017        2017   \n",
       "2  (N) La unidad de atención a emergencias fue de...   22/06/2017        2017   \n",
       "3  (D) El incidente reportado se registró en dos ...   22/06/2017        2017   \n",
       "4  (D) El incidente reportado se registró en dos ...   22/06/2017        2017   \n",
       "\n",
       "  mes_cierre hora_cierre    delegacion_inicio  \\\n",
       "0      Junio    20:39:42           MILPA ALTA   \n",
       "1      Junio    16:46:02              TLAHUAC   \n",
       "2      Junio    16:48:07  VENUSTIANO CARRANZA   \n",
       "3      Junio    17:20:34           IZTAPALAPA   \n",
       "4      Junio    17:25:27           IZTAPALAPA   \n",
       "\n",
       "                      incidente_c4   latitud  longitud  clas_con_f_alarma  \\\n",
       "0  accidente-choque sin lesionados  19.20137 -99.00732         EMERGENCIA   \n",
       "1  accidente-choque sin lesionados  19.29659 -99.03443         EMERGENCIA   \n",
       "2  accidente-choque sin lesionados  19.43053 -99.05260         EMERGENCIA   \n",
       "3  accidente-choque con lesionados  19.36189 -99.12243  URGENCIAS MEDICAS   \n",
       "4  accidente-choque con lesionados  19.36168 -99.12210  URGENCIAS MEDICAS   \n",
       "\n",
       "      tipo_entrada    delegacion_cierre                  geopoint  mes  \n",
       "0  LLAMADA DEL 911           MILPA ALTA  19.20137004,-99.00731988    6  \n",
       "1  LLAMADA DEL 911              TLAHUAC  19.29659004,-99.03443004    6  \n",
       "2  LLAMADA DEL 911  VENUSTIANO CARRANZA  19.43053002,-99.05259996    6  \n",
       "3  LLAMADA DEL 911           IZTAPALAPA  19.36188999,-99.12242988    6  \n",
       "4  LLAMADA DEL 911           IZTAPALAPA  19.36168002,-99.12210012    6  "
      ],
      "text/html": "<div>\n<style scoped>\n    .dataframe tbody tr th:only-of-type {\n        vertical-align: middle;\n    }\n\n    .dataframe tbody tr th {\n        vertical-align: top;\n    }\n\n    .dataframe thead th {\n        text-align: right;\n    }\n</style>\n<table border=\"1\" class=\"dataframe\">\n  <thead>\n    <tr style=\"text-align: right;\">\n      <th></th>\n      <th>folio</th>\n      <th>fecha_creacion</th>\n      <th>hora_creacion</th>\n      <th>dia_semana</th>\n      <th>codigo_cierre</th>\n      <th>fecha_cierre</th>\n      <th>año_cierre</th>\n      <th>mes_cierre</th>\n      <th>hora_cierre</th>\n      <th>delegacion_inicio</th>\n      <th>incidente_c4</th>\n      <th>latitud</th>\n      <th>longitud</th>\n      <th>clas_con_f_alarma</th>\n      <th>tipo_entrada</th>\n      <th>delegacion_cierre</th>\n      <th>geopoint</th>\n      <th>mes</th>\n    </tr>\n  </thead>\n  <tbody>\n    <tr>\n      <th>0</th>\n      <td>C5/170622/06952</td>\n      <td>22/06/2017</td>\n      <td>20:34:45</td>\n      <td>Jueves</td>\n      <td>(D) El incidente reportado se registró en dos ...</td>\n      <td>22/06/2017</td>\n      <td>2017</td>\n      <td>Junio</td>\n      <td>20:39:42</td>\n      <td>MILPA ALTA</td>\n      <td>accidente-choque sin lesionados</td>\n      <td>19.20137</td>\n      <td>-99.00732</td>\n      <td>EMERGENCIA</td>\n      <td>LLAMADA DEL 911</td>\n      <td>MILPA ALTA</td>\n      <td>19.20137004,-99.00731988</td>\n      <td>6</td>\n    </tr>\n    <tr>\n      <th>1</th>\n      <td>C5/170622/05115</td>\n      <td>22/06/2017</td>\n      <td>16:41:14</td>\n      <td>Jueves</td>\n      <td>(D) El incidente reportado se registró en dos ...</td>\n      <td>22/06/2017</td>\n      <td>2017</td>\n      <td>Junio</td>\n      <td>16:46:02</td>\n      <td>TLAHUAC</td>\n      <td>accidente-choque sin lesionados</td>\n      <td>19.29659</td>\n      <td>-99.03443</td>\n      <td>EMERGENCIA</td>\n      <td>LLAMADA DEL 911</td>\n      <td>TLAHUAC</td>\n      <td>19.29659004,-99.03443004</td>\n      <td>6</td>\n    </tr>\n    <tr>\n      <th>2</th>\n      <td>C5/170622/03715</td>\n      <td>22/06/2017</td>\n      <td>13:44:52</td>\n      <td>Jueves</td>\n      <td>(N) La unidad de atención a emergencias fue de...</td>\n      <td>22/06/2017</td>\n      <td>2017</td>\n      <td>Junio</td>\n      <td>16:48:07</td>\n      <td>VENUSTIANO CARRANZA</td>\n      <td>accidente-choque sin lesionados</td>\n      <td>19.43053</td>\n      <td>-99.05260</td>\n      <td>EMERGENCIA</td>\n      <td>LLAMADA DEL 911</td>\n      <td>VENUSTIANO CARRANZA</td>\n      <td>19.43053002,-99.05259996</td>\n      <td>6</td>\n    </tr>\n    <tr>\n      <th>3</th>\n      <td>C5/170622/05317</td>\n      <td>22/06/2017</td>\n      <td>17:08:58</td>\n      <td>Jueves</td>\n      <td>(D) El incidente reportado se registró en dos ...</td>\n      <td>22/06/2017</td>\n      <td>2017</td>\n      <td>Junio</td>\n      <td>17:20:34</td>\n      <td>IZTAPALAPA</td>\n      <td>accidente-choque con lesionados</td>\n      <td>19.36189</td>\n      <td>-99.12243</td>\n      <td>URGENCIAS MEDICAS</td>\n      <td>LLAMADA DEL 911</td>\n      <td>IZTAPALAPA</td>\n      <td>19.36188999,-99.12242988</td>\n      <td>6</td>\n    </tr>\n    <tr>\n      <th>4</th>\n      <td>C5/170622/05348</td>\n      <td>22/06/2017</td>\n      <td>17:12:38</td>\n      <td>Jueves</td>\n      <td>(D) El incidente reportado se registró en dos ...</td>\n      <td>22/06/2017</td>\n      <td>2017</td>\n      <td>Junio</td>\n      <td>17:25:27</td>\n      <td>IZTAPALAPA</td>\n      <td>accidente-choque con lesionados</td>\n      <td>19.36168</td>\n      <td>-99.12210</td>\n      <td>URGENCIAS MEDICAS</td>\n      <td>LLAMADA DEL 911</td>\n      <td>IZTAPALAPA</td>\n      <td>19.36168002,-99.12210012</td>\n      <td>6</td>\n    </tr>\n  </tbody>\n</table>\n</div>"
     },
     "metadata": {},
     "execution_count": 7
    }
   ],
   "source": [
    "data = pd.read_csv(\"data/incidentes-viales-c5-2017.csv\")\n",
    "data.head()"
   ]
  },
  {
   "cell_type": "code",
   "execution_count": 29,
   "metadata": {},
   "outputs": [],
   "source": [
    "years = [\"2018\", \"2019\", \"2021\"]\n",
    "for y in years:\n",
    "    df = pd.read_csv(f\"data/incidentes-viales-c5-{y}.csv\")\n",
    "    data = pd.concat([data, df], axis=0, ignore_index=True)"
   ]
  },
  {
   "cell_type": "markdown",
   "metadata": {},
   "source": [
    "# Análisis exploratorio"
   ]
  },
  {
   "cell_type": "code",
   "execution_count": 10,
   "metadata": {},
   "outputs": [
    {
     "output_type": "execute_result",
     "data": {
      "text/plain": [
       "             folio fecha_creacion hora_creacion dia_semana  \\\n",
       "0  C5/170622/06952     22/06/2017      20:34:45     Jueves   \n",
       "1  C5/170622/05115     22/06/2017      16:41:14     Jueves   \n",
       "2  C5/170622/03715     22/06/2017      13:44:52     Jueves   \n",
       "3  C5/170622/05317     22/06/2017      17:08:58     Jueves   \n",
       "4  C5/170622/05348     22/06/2017      17:12:38     Jueves   \n",
       "\n",
       "                                       codigo_cierre fecha_cierre  año_cierre  \\\n",
       "0  (D) El incidente reportado se registró en dos ...   22/06/2017      2017.0   \n",
       "1  (D) El incidente reportado se registró en dos ...   22/06/2017      2017.0   \n",
       "2  (N) La unidad de atención a emergencias fue de...   22/06/2017      2017.0   \n",
       "3  (D) El incidente reportado se registró en dos ...   22/06/2017      2017.0   \n",
       "4  (D) El incidente reportado se registró en dos ...   22/06/2017      2017.0   \n",
       "\n",
       "  mes_cierre hora_cierre    delegacion_inicio  \\\n",
       "0      Junio    20:39:42           MILPA ALTA   \n",
       "1      Junio    16:46:02              TLAHUAC   \n",
       "2      Junio    16:48:07  VENUSTIANO CARRANZA   \n",
       "3      Junio    17:20:34           IZTAPALAPA   \n",
       "4      Junio    17:25:27           IZTAPALAPA   \n",
       "\n",
       "                      incidente_c4   latitud  longitud  clas_con_f_alarma  \\\n",
       "0  accidente-choque sin lesionados  19.20137 -99.00732         EMERGENCIA   \n",
       "1  accidente-choque sin lesionados  19.29659 -99.03443         EMERGENCIA   \n",
       "2  accidente-choque sin lesionados  19.43053 -99.05260         EMERGENCIA   \n",
       "3  accidente-choque con lesionados  19.36189 -99.12243  URGENCIAS MEDICAS   \n",
       "4  accidente-choque con lesionados  19.36168 -99.12210  URGENCIAS MEDICAS   \n",
       "\n",
       "      tipo_entrada    delegacion_cierre                  geopoint  mes  \\\n",
       "0  LLAMADA DEL 911           MILPA ALTA  19.20137004,-99.00731988    6   \n",
       "1  LLAMADA DEL 911              TLAHUAC  19.29659004,-99.03443004    6   \n",
       "2  LLAMADA DEL 911  VENUSTIANO CARRANZA  19.43053002,-99.05259996    6   \n",
       "3  LLAMADA DEL 911           IZTAPALAPA  19.36188999,-99.12242988    6   \n",
       "4  LLAMADA DEL 911           IZTAPALAPA  19.36168002,-99.12210012    6   \n",
       "\n",
       "   Unnamed: 0  ano  \n",
       "0         NaN  NaN  \n",
       "1         NaN  NaN  \n",
       "2         NaN  NaN  \n",
       "3         NaN  NaN  \n",
       "4         NaN  NaN  "
      ],
      "text/html": "<div>\n<style scoped>\n    .dataframe tbody tr th:only-of-type {\n        vertical-align: middle;\n    }\n\n    .dataframe tbody tr th {\n        vertical-align: top;\n    }\n\n    .dataframe thead th {\n        text-align: right;\n    }\n</style>\n<table border=\"1\" class=\"dataframe\">\n  <thead>\n    <tr style=\"text-align: right;\">\n      <th></th>\n      <th>folio</th>\n      <th>fecha_creacion</th>\n      <th>hora_creacion</th>\n      <th>dia_semana</th>\n      <th>codigo_cierre</th>\n      <th>fecha_cierre</th>\n      <th>año_cierre</th>\n      <th>mes_cierre</th>\n      <th>hora_cierre</th>\n      <th>delegacion_inicio</th>\n      <th>incidente_c4</th>\n      <th>latitud</th>\n      <th>longitud</th>\n      <th>clas_con_f_alarma</th>\n      <th>tipo_entrada</th>\n      <th>delegacion_cierre</th>\n      <th>geopoint</th>\n      <th>mes</th>\n      <th>Unnamed: 0</th>\n      <th>ano</th>\n    </tr>\n  </thead>\n  <tbody>\n    <tr>\n      <th>0</th>\n      <td>C5/170622/06952</td>\n      <td>22/06/2017</td>\n      <td>20:34:45</td>\n      <td>Jueves</td>\n      <td>(D) El incidente reportado se registró en dos ...</td>\n      <td>22/06/2017</td>\n      <td>2017.0</td>\n      <td>Junio</td>\n      <td>20:39:42</td>\n      <td>MILPA ALTA</td>\n      <td>accidente-choque sin lesionados</td>\n      <td>19.20137</td>\n      <td>-99.00732</td>\n      <td>EMERGENCIA</td>\n      <td>LLAMADA DEL 911</td>\n      <td>MILPA ALTA</td>\n      <td>19.20137004,-99.00731988</td>\n      <td>6</td>\n      <td>NaN</td>\n      <td>NaN</td>\n    </tr>\n    <tr>\n      <th>1</th>\n      <td>C5/170622/05115</td>\n      <td>22/06/2017</td>\n      <td>16:41:14</td>\n      <td>Jueves</td>\n      <td>(D) El incidente reportado se registró en dos ...</td>\n      <td>22/06/2017</td>\n      <td>2017.0</td>\n      <td>Junio</td>\n      <td>16:46:02</td>\n      <td>TLAHUAC</td>\n      <td>accidente-choque sin lesionados</td>\n      <td>19.29659</td>\n      <td>-99.03443</td>\n      <td>EMERGENCIA</td>\n      <td>LLAMADA DEL 911</td>\n      <td>TLAHUAC</td>\n      <td>19.29659004,-99.03443004</td>\n      <td>6</td>\n      <td>NaN</td>\n      <td>NaN</td>\n    </tr>\n    <tr>\n      <th>2</th>\n      <td>C5/170622/03715</td>\n      <td>22/06/2017</td>\n      <td>13:44:52</td>\n      <td>Jueves</td>\n      <td>(N) La unidad de atención a emergencias fue de...</td>\n      <td>22/06/2017</td>\n      <td>2017.0</td>\n      <td>Junio</td>\n      <td>16:48:07</td>\n      <td>VENUSTIANO CARRANZA</td>\n      <td>accidente-choque sin lesionados</td>\n      <td>19.43053</td>\n      <td>-99.05260</td>\n      <td>EMERGENCIA</td>\n      <td>LLAMADA DEL 911</td>\n      <td>VENUSTIANO CARRANZA</td>\n      <td>19.43053002,-99.05259996</td>\n      <td>6</td>\n      <td>NaN</td>\n      <td>NaN</td>\n    </tr>\n    <tr>\n      <th>3</th>\n      <td>C5/170622/05317</td>\n      <td>22/06/2017</td>\n      <td>17:08:58</td>\n      <td>Jueves</td>\n      <td>(D) El incidente reportado se registró en dos ...</td>\n      <td>22/06/2017</td>\n      <td>2017.0</td>\n      <td>Junio</td>\n      <td>17:20:34</td>\n      <td>IZTAPALAPA</td>\n      <td>accidente-choque con lesionados</td>\n      <td>19.36189</td>\n      <td>-99.12243</td>\n      <td>URGENCIAS MEDICAS</td>\n      <td>LLAMADA DEL 911</td>\n      <td>IZTAPALAPA</td>\n      <td>19.36188999,-99.12242988</td>\n      <td>6</td>\n      <td>NaN</td>\n      <td>NaN</td>\n    </tr>\n    <tr>\n      <th>4</th>\n      <td>C5/170622/05348</td>\n      <td>22/06/2017</td>\n      <td>17:12:38</td>\n      <td>Jueves</td>\n      <td>(D) El incidente reportado se registró en dos ...</td>\n      <td>22/06/2017</td>\n      <td>2017.0</td>\n      <td>Junio</td>\n      <td>17:25:27</td>\n      <td>IZTAPALAPA</td>\n      <td>accidente-choque con lesionados</td>\n      <td>19.36168</td>\n      <td>-99.12210</td>\n      <td>URGENCIAS MEDICAS</td>\n      <td>LLAMADA DEL 911</td>\n      <td>IZTAPALAPA</td>\n      <td>19.36168002,-99.12210012</td>\n      <td>6</td>\n      <td>NaN</td>\n      <td>NaN</td>\n    </tr>\n  </tbody>\n</table>\n</div>"
     },
     "metadata": {},
     "execution_count": 10
    }
   ],
   "source": [
    "data.head()"
   ]
  },
  {
   "cell_type": "code",
   "execution_count": 11,
   "metadata": {},
   "outputs": [
    {
     "output_type": "execute_result",
     "data": {
      "text/plain": [
       "                   folio fecha_creacion hora_creacion dia_semana  \\\n",
       "1147899  C5/210228/09309     28/02/2021      22:24:48    Domingo   \n",
       "1147900  C5/210228/09401     28/02/2021      22:45:49    Domingo   \n",
       "1147901  C5/210228/09405     28/02/2021      22:45:59    Domingo   \n",
       "1147902  C5/210228/09417     28/02/2021      22:48:36    Domingo   \n",
       "1147903  IZ/210228/07916     28/02/2021      19:46:33    Domingo   \n",
       "\n",
       "        codigo_cierre fecha_cierre  año_cierre mes_cierre hora_cierre  \\\n",
       "1147899             N   28/02/2021         NaN        NaN    23:44:19   \n",
       "1147900             N   28/02/2021         NaN        NaN    22:58:58   \n",
       "1147901             D   28/02/2021         NaN        NaN    22:49:07   \n",
       "1147902             A   28/02/2021         NaN        NaN    23:48:19   \n",
       "1147903             A   28/02/2021         NaN        NaN    20:17:58   \n",
       "\n",
       "         delegacion_inicio                     incidente_c4    latitud  \\\n",
       "1147899         IZTAPALAPA  accidente-choque sin lesionados  19.349940   \n",
       "1147900  GUSTAVO A. MADERO            lesionado-atropellado  19.491660   \n",
       "1147901     MIGUEL HIDALGO  accidente-choque con lesionados  19.396770   \n",
       "1147902       AZCAPOTZALCO  accidente-choque sin lesionados  19.481660   \n",
       "1147903         XOCHIMILCO  accidente-choque sin lesionados  19.244195   \n",
       "\n",
       "          longitud  clas_con_f_alarma      tipo_entrada  delegacion_cierre  \\\n",
       "1147899 -99.066890         EMERGENCIA   LLAMADA DEL 911         IZTAPALAPA   \n",
       "1147900 -99.092150  URGENCIAS MEDICAS   LLAMADA DEL 911  GUSTAVO A. MADERO   \n",
       "1147901 -99.237120  URGENCIAS MEDICAS   LLAMADA DEL 911     MIGUEL HIDALGO   \n",
       "1147902 -99.218560         EMERGENCIA   LLAMADA DEL 911       AZCAPOTZALCO   \n",
       "1147903 -99.108017         EMERGENCIA  BOTÓN DE AUXILIO         XOCHIMILCO   \n",
       "\n",
       "        geopoint  mes  Unnamed: 0     ano  \n",
       "1147899      NaN    2     12943.0  2021.0  \n",
       "1147900      NaN    2     12944.0  2021.0  \n",
       "1147901      NaN    2     12945.0  2021.0  \n",
       "1147902      NaN    2     12946.0  2021.0  \n",
       "1147903      NaN    2     12947.0  2021.0  "
      ],
      "text/html": "<div>\n<style scoped>\n    .dataframe tbody tr th:only-of-type {\n        vertical-align: middle;\n    }\n\n    .dataframe tbody tr th {\n        vertical-align: top;\n    }\n\n    .dataframe thead th {\n        text-align: right;\n    }\n</style>\n<table border=\"1\" class=\"dataframe\">\n  <thead>\n    <tr style=\"text-align: right;\">\n      <th></th>\n      <th>folio</th>\n      <th>fecha_creacion</th>\n      <th>hora_creacion</th>\n      <th>dia_semana</th>\n      <th>codigo_cierre</th>\n      <th>fecha_cierre</th>\n      <th>año_cierre</th>\n      <th>mes_cierre</th>\n      <th>hora_cierre</th>\n      <th>delegacion_inicio</th>\n      <th>incidente_c4</th>\n      <th>latitud</th>\n      <th>longitud</th>\n      <th>clas_con_f_alarma</th>\n      <th>tipo_entrada</th>\n      <th>delegacion_cierre</th>\n      <th>geopoint</th>\n      <th>mes</th>\n      <th>Unnamed: 0</th>\n      <th>ano</th>\n    </tr>\n  </thead>\n  <tbody>\n    <tr>\n      <th>1147899</th>\n      <td>C5/210228/09309</td>\n      <td>28/02/2021</td>\n      <td>22:24:48</td>\n      <td>Domingo</td>\n      <td>N</td>\n      <td>28/02/2021</td>\n      <td>NaN</td>\n      <td>NaN</td>\n      <td>23:44:19</td>\n      <td>IZTAPALAPA</td>\n      <td>accidente-choque sin lesionados</td>\n      <td>19.349940</td>\n      <td>-99.066890</td>\n      <td>EMERGENCIA</td>\n      <td>LLAMADA DEL 911</td>\n      <td>IZTAPALAPA</td>\n      <td>NaN</td>\n      <td>2</td>\n      <td>12943.0</td>\n      <td>2021.0</td>\n    </tr>\n    <tr>\n      <th>1147900</th>\n      <td>C5/210228/09401</td>\n      <td>28/02/2021</td>\n      <td>22:45:49</td>\n      <td>Domingo</td>\n      <td>N</td>\n      <td>28/02/2021</td>\n      <td>NaN</td>\n      <td>NaN</td>\n      <td>22:58:58</td>\n      <td>GUSTAVO A. MADERO</td>\n      <td>lesionado-atropellado</td>\n      <td>19.491660</td>\n      <td>-99.092150</td>\n      <td>URGENCIAS MEDICAS</td>\n      <td>LLAMADA DEL 911</td>\n      <td>GUSTAVO A. MADERO</td>\n      <td>NaN</td>\n      <td>2</td>\n      <td>12944.0</td>\n      <td>2021.0</td>\n    </tr>\n    <tr>\n      <th>1147901</th>\n      <td>C5/210228/09405</td>\n      <td>28/02/2021</td>\n      <td>22:45:59</td>\n      <td>Domingo</td>\n      <td>D</td>\n      <td>28/02/2021</td>\n      <td>NaN</td>\n      <td>NaN</td>\n      <td>22:49:07</td>\n      <td>MIGUEL HIDALGO</td>\n      <td>accidente-choque con lesionados</td>\n      <td>19.396770</td>\n      <td>-99.237120</td>\n      <td>URGENCIAS MEDICAS</td>\n      <td>LLAMADA DEL 911</td>\n      <td>MIGUEL HIDALGO</td>\n      <td>NaN</td>\n      <td>2</td>\n      <td>12945.0</td>\n      <td>2021.0</td>\n    </tr>\n    <tr>\n      <th>1147902</th>\n      <td>C5/210228/09417</td>\n      <td>28/02/2021</td>\n      <td>22:48:36</td>\n      <td>Domingo</td>\n      <td>A</td>\n      <td>28/02/2021</td>\n      <td>NaN</td>\n      <td>NaN</td>\n      <td>23:48:19</td>\n      <td>AZCAPOTZALCO</td>\n      <td>accidente-choque sin lesionados</td>\n      <td>19.481660</td>\n      <td>-99.218560</td>\n      <td>EMERGENCIA</td>\n      <td>LLAMADA DEL 911</td>\n      <td>AZCAPOTZALCO</td>\n      <td>NaN</td>\n      <td>2</td>\n      <td>12946.0</td>\n      <td>2021.0</td>\n    </tr>\n    <tr>\n      <th>1147903</th>\n      <td>IZ/210228/07916</td>\n      <td>28/02/2021</td>\n      <td>19:46:33</td>\n      <td>Domingo</td>\n      <td>A</td>\n      <td>28/02/2021</td>\n      <td>NaN</td>\n      <td>NaN</td>\n      <td>20:17:58</td>\n      <td>XOCHIMILCO</td>\n      <td>accidente-choque sin lesionados</td>\n      <td>19.244195</td>\n      <td>-99.108017</td>\n      <td>EMERGENCIA</td>\n      <td>BOTÓN DE AUXILIO</td>\n      <td>XOCHIMILCO</td>\n      <td>NaN</td>\n      <td>2</td>\n      <td>12947.0</td>\n      <td>2021.0</td>\n    </tr>\n  </tbody>\n</table>\n</div>"
     },
     "metadata": {},
     "execution_count": 11
    }
   ],
   "source": [
    "data.tail()"
   ]
  },
  {
   "cell_type": "markdown",
   "metadata": {},
   "source": [
    "# Limpieza"
   ]
  },
  {
   "source": [
    "## Conversiones de tipo"
   ],
   "cell_type": "markdown",
   "metadata": {}
  },
  {
   "cell_type": "markdown",
   "metadata": {},
   "source": [
    "- Cambiar:  \n",
    "- Fecha de creacion -> fecha\n",
    "- Hora de creación \n",
    "- codigo de cierre -> categorico\n",
    "- Fecha de cierre -> fecha\n",
    "- año de cierre -> eliminar\n",
    "- Hora cierre -> eliminar\n",
    "- Hora de cierre ->  tiempo\n",
    "- Delgación -> Categorico\n",
    "- inciente_c4 -> Categorico\n",
    "- clas_on_f_alarma -> Categorico\n",
    "- tipo_etrada -> Categorico\n",
    "- delegacon_cierre -> categorico\n",
    "- geopoint-> eliminar\n",
    "- mes -> \"caegory\"\n"
   ]
  },
  {
   "cell_type": "code",
   "execution_count": 34,
   "metadata": {
    "scrolled": true
   },
   "outputs": [
    {
     "output_type": "execute_result",
     "data": {
      "text/plain": [
       "folio                          object\n",
       "codigo_cierre                  object\n",
       "delegacion_inicio              object\n",
       "incidente_c4                   object\n",
       "latitud                       float64\n",
       "longitud                      float64\n",
       "clas_con_f_alarma              object\n",
       "tipo_entrada                   object\n",
       "delegacion_cierre              object\n",
       "mes                             int64\n",
       "fecha_hora_cierre      datetime64[ns]\n",
       "fecha_hora_creacion    datetime64[ns]\n",
       "fecha_creacion                 object\n",
       "hora_creacion                  object\n",
       "dia_semana                     object\n",
       "fecha_cierre                   object\n",
       "año_cierre                    float64\n",
       "mes_cierre                     object\n",
       "hora_cierre                    object\n",
       "geopoint                       object\n",
       "Unnamed: 0                    float64\n",
       "ano                           float64\n",
       "dtype: object"
      ]
     },
     "metadata": {},
     "execution_count": 34
    }
   ],
   "source": [
    "data.dtypes"
   ]
  },
  {
   "cell_type": "code",
   "execution_count": 31,
   "metadata": {},
   "outputs": [],
   "source": [
    "data['fecha_hora_cierre'] = data['fecha_cierre']+ \" \" + data['hora_cierre']"
   ]
  },
  {
   "cell_type": "code",
   "execution_count": 32,
   "metadata": {},
   "outputs": [],
   "source": [
    "data['fecha_hora_creacion'] = data['fecha_creacion']+ \" \" + data['hora_creacion']"
   ]
  },
  {
   "cell_type": "code",
   "execution_count": 43,
   "metadata": {},
   "outputs": [
    {
     "output_type": "execute_result",
     "data": {
      "text/plain": [
       "array(['LLAMADA DEL 911', 'BOTÓN DE AUXILIO', 'RADIO', 'REDES',\n",
       "       'LLAMADA APP911', 'CÁMARA', 'ZELLO', 'APLICATIVOS'], dtype=object)"
      ]
     },
     "metadata": {},
     "execution_count": 43
    }
   ],
   "source": [
    "data['tipo_entrada'].unique()"
   ]
  },
  {
   "cell_type": "code",
   "execution_count": 35,
   "metadata": {},
   "outputs": [
    {
     "output_type": "execute_result",
     "data": {
      "text/plain": [
       "Index(['folio', 'codigo_cierre', 'delegacion_inicio', 'incidente_c4',\n",
       "       'latitud', 'longitud', 'clas_con_f_alarma', 'tipo_entrada',\n",
       "       'delegacion_cierre', 'mes', 'fecha_hora_cierre', 'fecha_hora_creacion',\n",
       "       'fecha_creacion', 'hora_creacion', 'dia_semana', 'fecha_cierre',\n",
       "       'año_cierre', 'mes_cierre', 'hora_cierre', 'geopoint', 'Unnamed: 0',\n",
       "       'ano'],\n",
       "      dtype='object')"
      ]
     },
     "metadata": {},
     "execution_count": 35
    }
   ],
   "source": [
    "data.columns"
   ]
  },
  {
   "cell_type": "code",
   "execution_count": 36,
   "metadata": {},
   "outputs": [],
   "source": [
    "dS1 = data.drop(columns=['dia_semana', 'año_cierre', 'mes_cierre','fecha_cierre', 'fecha_creacion', 'hora_cierre', 'hora_creacion', 'Unnamed: 0', 'ano', \"geopoint\"])"
   ]
  },
  {
   "cell_type": "code",
   "execution_count": 57,
   "metadata": {},
   "outputs": [],
   "source": [
    "# Borrar columnas \n",
    "diccionario_de_conversion = {\n",
    "    'codigo_cierre': 'category',\n",
    "    'fecha_hora_creacion': 'datetime64[ns]',\n",
    "    'fecha_hora_cierre': 'datetime64[ns]', \n",
    "    'delegacion_inicio': 'category',\n",
    "    'incidente_c4': 'category', \n",
    "    'clas_con_f_alarma': 'category', \n",
    "    'tipo_entrada': 'category',\n",
    "    'delegacion_cierre':'category',\n",
    "    'mes':'category'\n",
    "}"
   ]
  },
  {
   "cell_type": "code",
   "execution_count": 60,
   "metadata": {},
   "outputs": [],
   "source": [
    "dS1 = dS1.astype(diccionario_de_conversion)"
   ]
  },
  {
   "cell_type": "code",
   "execution_count": 61,
   "metadata": {},
   "outputs": [
    {
     "output_type": "execute_result",
     "data": {
      "text/plain": [
       "folio                          object\n",
       "codigo_cierre                category\n",
       "delegacion_inicio            category\n",
       "incidente_c4                 category\n",
       "latitud                       float64\n",
       "longitud                      float64\n",
       "clas_con_f_alarma            category\n",
       "tipo_entrada                 category\n",
       "delegacion_cierre            category\n",
       "mes                          category\n",
       "fecha_hora_cierre      datetime64[ns]\n",
       "fecha_hora_creacion    datetime64[ns]\n",
       "dtype: object"
      ]
     },
     "metadata": {},
     "execution_count": 61
    }
   ],
   "source": [
    "dS1.dtypes"
   ]
  },
  {
   "source": [
    "## Tratamiento de valores nulos"
   ],
   "cell_type": "markdown",
   "metadata": {}
  },
  {
   "cell_type": "code",
   "execution_count": null,
   "metadata": {},
   "outputs": [],
   "source": [
    "dS1.isnull().sum()"
   ]
  },
  {
   "cell_type": "code",
   "execution_count": null,
   "metadata": {},
   "outputs": [],
   "source": [
    "import missingno as msno\n",
    "msno.matrix(dt)"
   ]
  },
  {
   "cell_type": "code",
   "execution_count": 65,
   "metadata": {},
   "outputs": [],
   "source": [
    "dS1.dropna(inplace = True)"
   ]
  },
  {
   "cell_type": "code",
   "execution_count": 66,
   "metadata": {},
   "outputs": [
    {
     "data": {
      "text/plain": [
       "folio                  0\n",
       "codigo_cierre          0\n",
       "delegacion_inicio      0\n",
       "incidente_c4           0\n",
       "latitud                0\n",
       "longitud               0\n",
       "clas_con_f_alarma      0\n",
       "tipo_entrada           0\n",
       "delegacion_cierre      0\n",
       "mes                    0\n",
       "fecha_hora_cierre      0\n",
       "fecha_hora_creacion    0\n",
       "dtype: int64"
      ]
     },
     "execution_count": 66,
     "metadata": {},
     "output_type": "execute_result"
    }
   ],
   "source": [
    "dS1.isnull().sum()"
   ]
  },
  {
   "cell_type": "code",
   "execution_count": 57,
   "metadata": {},
   "outputs": [
    {
     "data": {
      "text/plain": [
       "array(['(D) El incidente reportado se registró en dos o más ocasiones procediendo a mantener un único reporte (afirmativo, informativo, negativo o falso) como el identificador para el incidente',\n",
       "       '(N) La unidad de atención a emergencias fue despachada, llegó al lugar de los hechos, pero en el sitio del evento nadie solicitó el apoyo de la unidad',\n",
       "       '(A) La unidad de atención a emergencias fue despachada, llegó al lugar de los hechos y confirmó la emergencia reportada',\n",
       "       '(F) El operador/a o despachador/a identifican, antes de dar respuesta a la emergencia, que ésta es falsa. O al ser despachada una unidad de atención a emergencias en el lugar de los hechos se percatan que el incidente no corresponde al reportado inicialmente',\n",
       "       '(I) El incidente reportado es afirmativo y se añade información adicional al evento',\n",
       "       'D', 'A', 'N', 'F', 'I'], dtype=object)"
      ]
     },
     "execution_count": 57,
     "metadata": {},
     "output_type": "execute_result"
    }
   ],
   "source": [
    "dS1[\"codigo_cierre\"].unique()"
   ]
  },
  {
   "cell_type": "code",
   "execution_count": 61,
   "metadata": {},
   "outputs": [
    {
     "data": {
      "text/html": [
       "<div>\n",
       "<style scoped>\n",
       "    .dataframe tbody tr th:only-of-type {\n",
       "        vertical-align: middle;\n",
       "    }\n",
       "\n",
       "    .dataframe tbody tr th {\n",
       "        vertical-align: top;\n",
       "    }\n",
       "\n",
       "    .dataframe thead th {\n",
       "        text-align: right;\n",
       "    }\n",
       "</style>\n",
       "<table border=\"1\" class=\"dataframe\">\n",
       "  <thead>\n",
       "    <tr style=\"text-align: right;\">\n",
       "      <th></th>\n",
       "      <th>folio</th>\n",
       "      <th>codigo_cierre</th>\n",
       "      <th>delegacion_inicio</th>\n",
       "      <th>incidente_c4</th>\n",
       "      <th>latitud</th>\n",
       "      <th>longitud</th>\n",
       "      <th>clas_con_f_alarma</th>\n",
       "      <th>tipo_entrada</th>\n",
       "      <th>delegacion_cierre</th>\n",
       "      <th>geopoint</th>\n",
       "      <th>mes</th>\n",
       "      <th>fecha_hora_cierre</th>\n",
       "      <th>fecha_hora_creacion</th>\n",
       "    </tr>\n",
       "  </thead>\n",
       "  <tbody>\n",
       "    <tr>\n",
       "      <th>0</th>\n",
       "      <td>C5/170622/06952</td>\n",
       "      <td>(D) El incidente reportado se registró en dos ...</td>\n",
       "      <td>MILPA ALTA</td>\n",
       "      <td>accidente-choque sin lesionados</td>\n",
       "      <td>19.20137</td>\n",
       "      <td>-99.00732</td>\n",
       "      <td>EMERGENCIA</td>\n",
       "      <td>LLAMADA DEL 911</td>\n",
       "      <td>MILPA ALTA</td>\n",
       "      <td>19.20137004,-99.00731988</td>\n",
       "      <td>6</td>\n",
       "      <td>2017-06-22 20:39:42</td>\n",
       "      <td>2017-06-22 20:34:45</td>\n",
       "    </tr>\n",
       "    <tr>\n",
       "      <th>1</th>\n",
       "      <td>C5/170622/05115</td>\n",
       "      <td>(D) El incidente reportado se registró en dos ...</td>\n",
       "      <td>TLAHUAC</td>\n",
       "      <td>accidente-choque sin lesionados</td>\n",
       "      <td>19.29659</td>\n",
       "      <td>-99.03443</td>\n",
       "      <td>EMERGENCIA</td>\n",
       "      <td>LLAMADA DEL 911</td>\n",
       "      <td>TLAHUAC</td>\n",
       "      <td>19.29659004,-99.03443004</td>\n",
       "      <td>6</td>\n",
       "      <td>2017-06-22 16:46:02</td>\n",
       "      <td>2017-06-22 16:41:14</td>\n",
       "    </tr>\n",
       "    <tr>\n",
       "      <th>3</th>\n",
       "      <td>C5/170622/05317</td>\n",
       "      <td>(D) El incidente reportado se registró en dos ...</td>\n",
       "      <td>IZTAPALAPA</td>\n",
       "      <td>accidente-choque con lesionados</td>\n",
       "      <td>19.36189</td>\n",
       "      <td>-99.12243</td>\n",
       "      <td>URGENCIAS MEDICAS</td>\n",
       "      <td>LLAMADA DEL 911</td>\n",
       "      <td>IZTAPALAPA</td>\n",
       "      <td>19.36188999,-99.12242988</td>\n",
       "      <td>6</td>\n",
       "      <td>2017-06-22 17:20:34</td>\n",
       "      <td>2017-06-22 17:08:58</td>\n",
       "    </tr>\n",
       "    <tr>\n",
       "      <th>4</th>\n",
       "      <td>C5/170622/05348</td>\n",
       "      <td>(D) El incidente reportado se registró en dos ...</td>\n",
       "      <td>IZTAPALAPA</td>\n",
       "      <td>accidente-choque con lesionados</td>\n",
       "      <td>19.36168</td>\n",
       "      <td>-99.12210</td>\n",
       "      <td>URGENCIAS MEDICAS</td>\n",
       "      <td>LLAMADA DEL 911</td>\n",
       "      <td>IZTAPALAPA</td>\n",
       "      <td>19.36168002,-99.12210012</td>\n",
       "      <td>6</td>\n",
       "      <td>2017-06-22 17:25:27</td>\n",
       "      <td>2017-06-22 17:12:38</td>\n",
       "    </tr>\n",
       "    <tr>\n",
       "      <th>6</th>\n",
       "      <td>C5/170622/03505</td>\n",
       "      <td>(D) El incidente reportado se registró en dos ...</td>\n",
       "      <td>MIGUEL HIDALGO</td>\n",
       "      <td>accidente-choque sin lesionados</td>\n",
       "      <td>19.39240</td>\n",
       "      <td>-99.23910</td>\n",
       "      <td>EMERGENCIA</td>\n",
       "      <td>LLAMADA DEL 911</td>\n",
       "      <td>MIGUEL HIDALGO</td>\n",
       "      <td>19.3924,-99.2391</td>\n",
       "      <td>6</td>\n",
       "      <td>2017-06-22 13:43:48</td>\n",
       "      <td>2017-06-22 13:14:43</td>\n",
       "    </tr>\n",
       "    <tr>\n",
       "      <th>...</th>\n",
       "      <td>...</td>\n",
       "      <td>...</td>\n",
       "      <td>...</td>\n",
       "      <td>...</td>\n",
       "      <td>...</td>\n",
       "      <td>...</td>\n",
       "      <td>...</td>\n",
       "      <td>...</td>\n",
       "      <td>...</td>\n",
       "      <td>...</td>\n",
       "      <td>...</td>\n",
       "      <td>...</td>\n",
       "      <td>...</td>\n",
       "    </tr>\n",
       "    <tr>\n",
       "      <th>693684</th>\n",
       "      <td>C5/210228/09247</td>\n",
       "      <td>D</td>\n",
       "      <td>ALVARO OBREGON</td>\n",
       "      <td>accidente-choque sin lesionados</td>\n",
       "      <td>19.32522</td>\n",
       "      <td>-99.21411</td>\n",
       "      <td>EMERGENCIA</td>\n",
       "      <td>LLAMADA DEL 911</td>\n",
       "      <td>ALVARO OBREGON</td>\n",
       "      <td>NaN</td>\n",
       "      <td>2</td>\n",
       "      <td>2021-02-28 22:29:18</td>\n",
       "      <td>2021-02-28 22:26:34</td>\n",
       "    </tr>\n",
       "    <tr>\n",
       "      <th>693685</th>\n",
       "      <td>C5/210228/09249</td>\n",
       "      <td>D</td>\n",
       "      <td>MIGUEL HIDALGO</td>\n",
       "      <td>accidente-choque con lesionados</td>\n",
       "      <td>19.39484</td>\n",
       "      <td>-99.23953</td>\n",
       "      <td>URGENCIAS MEDICAS</td>\n",
       "      <td>LLAMADA DEL 911</td>\n",
       "      <td>MIGUEL HIDALGO</td>\n",
       "      <td>NaN</td>\n",
       "      <td>2</td>\n",
       "      <td>2021-02-28 22:35:06</td>\n",
       "      <td>2021-02-28 22:27:30</td>\n",
       "    </tr>\n",
       "    <tr>\n",
       "      <th>693686</th>\n",
       "      <td>C5/210228/09250</td>\n",
       "      <td>D</td>\n",
       "      <td>ALVARO OBREGON</td>\n",
       "      <td>accidente-choque sin lesionados</td>\n",
       "      <td>19.39965</td>\n",
       "      <td>-99.19095</td>\n",
       "      <td>EMERGENCIA</td>\n",
       "      <td>LLAMADA DEL 911</td>\n",
       "      <td>ALVARO OBREGON</td>\n",
       "      <td>NaN</td>\n",
       "      <td>2</td>\n",
       "      <td>2021-02-28 22:30:01</td>\n",
       "      <td>2021-02-28 22:27:35</td>\n",
       "    </tr>\n",
       "    <tr>\n",
       "      <th>693687</th>\n",
       "      <td>C5/210228/09255</td>\n",
       "      <td>D</td>\n",
       "      <td>IZTACALCO</td>\n",
       "      <td>accidente-choque con lesionados</td>\n",
       "      <td>19.39508</td>\n",
       "      <td>-99.05895</td>\n",
       "      <td>URGENCIAS MEDICAS</td>\n",
       "      <td>LLAMADA DEL 911</td>\n",
       "      <td>IZTACALCO</td>\n",
       "      <td>NaN</td>\n",
       "      <td>2</td>\n",
       "      <td>2021-02-28 22:39:44</td>\n",
       "      <td>2021-02-28 22:28:35</td>\n",
       "    </tr>\n",
       "    <tr>\n",
       "      <th>693690</th>\n",
       "      <td>C5/210228/09405</td>\n",
       "      <td>D</td>\n",
       "      <td>MIGUEL HIDALGO</td>\n",
       "      <td>accidente-choque con lesionados</td>\n",
       "      <td>19.39677</td>\n",
       "      <td>-99.23712</td>\n",
       "      <td>URGENCIAS MEDICAS</td>\n",
       "      <td>LLAMADA DEL 911</td>\n",
       "      <td>MIGUEL HIDALGO</td>\n",
       "      <td>NaN</td>\n",
       "      <td>2</td>\n",
       "      <td>2021-02-28 22:49:07</td>\n",
       "      <td>2021-02-28 22:45:59</td>\n",
       "    </tr>\n",
       "  </tbody>\n",
       "</table>\n",
       "<p>324147 rows × 13 columns</p>\n",
       "</div>"
      ],
      "text/plain": [
       "                  folio                                      codigo_cierre  \\\n",
       "0       C5/170622/06952  (D) El incidente reportado se registró en dos ...   \n",
       "1       C5/170622/05115  (D) El incidente reportado se registró en dos ...   \n",
       "3       C5/170622/05317  (D) El incidente reportado se registró en dos ...   \n",
       "4       C5/170622/05348  (D) El incidente reportado se registró en dos ...   \n",
       "6       C5/170622/03505  (D) El incidente reportado se registró en dos ...   \n",
       "...                 ...                                                ...   \n",
       "693684  C5/210228/09247                                                  D   \n",
       "693685  C5/210228/09249                                                  D   \n",
       "693686  C5/210228/09250                                                  D   \n",
       "693687  C5/210228/09255                                                  D   \n",
       "693690  C5/210228/09405                                                  D   \n",
       "\n",
       "       delegacion_inicio                     incidente_c4   latitud  longitud  \\\n",
       "0             MILPA ALTA  accidente-choque sin lesionados  19.20137 -99.00732   \n",
       "1                TLAHUAC  accidente-choque sin lesionados  19.29659 -99.03443   \n",
       "3             IZTAPALAPA  accidente-choque con lesionados  19.36189 -99.12243   \n",
       "4             IZTAPALAPA  accidente-choque con lesionados  19.36168 -99.12210   \n",
       "6         MIGUEL HIDALGO  accidente-choque sin lesionados  19.39240 -99.23910   \n",
       "...                  ...                              ...       ...       ...   \n",
       "693684    ALVARO OBREGON  accidente-choque sin lesionados  19.32522 -99.21411   \n",
       "693685    MIGUEL HIDALGO  accidente-choque con lesionados  19.39484 -99.23953   \n",
       "693686    ALVARO OBREGON  accidente-choque sin lesionados  19.39965 -99.19095   \n",
       "693687         IZTACALCO  accidente-choque con lesionados  19.39508 -99.05895   \n",
       "693690    MIGUEL HIDALGO  accidente-choque con lesionados  19.39677 -99.23712   \n",
       "\n",
       "        clas_con_f_alarma     tipo_entrada delegacion_cierre  \\\n",
       "0              EMERGENCIA  LLAMADA DEL 911        MILPA ALTA   \n",
       "1              EMERGENCIA  LLAMADA DEL 911           TLAHUAC   \n",
       "3       URGENCIAS MEDICAS  LLAMADA DEL 911        IZTAPALAPA   \n",
       "4       URGENCIAS MEDICAS  LLAMADA DEL 911        IZTAPALAPA   \n",
       "6              EMERGENCIA  LLAMADA DEL 911    MIGUEL HIDALGO   \n",
       "...                   ...              ...               ...   \n",
       "693684         EMERGENCIA  LLAMADA DEL 911    ALVARO OBREGON   \n",
       "693685  URGENCIAS MEDICAS  LLAMADA DEL 911    MIGUEL HIDALGO   \n",
       "693686         EMERGENCIA  LLAMADA DEL 911    ALVARO OBREGON   \n",
       "693687  URGENCIAS MEDICAS  LLAMADA DEL 911         IZTACALCO   \n",
       "693690  URGENCIAS MEDICAS  LLAMADA DEL 911    MIGUEL HIDALGO   \n",
       "\n",
       "                        geopoint  mes   fecha_hora_cierre fecha_hora_creacion  \n",
       "0       19.20137004,-99.00731988    6 2017-06-22 20:39:42 2017-06-22 20:34:45  \n",
       "1       19.29659004,-99.03443004    6 2017-06-22 16:46:02 2017-06-22 16:41:14  \n",
       "3       19.36188999,-99.12242988    6 2017-06-22 17:20:34 2017-06-22 17:08:58  \n",
       "4       19.36168002,-99.12210012    6 2017-06-22 17:25:27 2017-06-22 17:12:38  \n",
       "6               19.3924,-99.2391    6 2017-06-22 13:43:48 2017-06-22 13:14:43  \n",
       "...                          ...  ...                 ...                 ...  \n",
       "693684                       NaN    2 2021-02-28 22:29:18 2021-02-28 22:26:34  \n",
       "693685                       NaN    2 2021-02-28 22:35:06 2021-02-28 22:27:30  \n",
       "693686                       NaN    2 2021-02-28 22:30:01 2021-02-28 22:27:35  \n",
       "693687                       NaN    2 2021-02-28 22:39:44 2021-02-28 22:28:35  \n",
       "693690                       NaN    2 2021-02-28 22:49:07 2021-02-28 22:45:59  \n",
       "\n",
       "[324147 rows x 13 columns]"
      ]
     },
     "execution_count": 61,
     "metadata": {},
     "output_type": "execute_result"
    }
   ],
   "source": [
    "dS1[dS1['codigo_cierre'].str.contains(\"D\", regex=True)]"
   ]
  },
  {
   "cell_type": "code",
   "execution_count": 1,
   "metadata": {},
   "outputs": [
    {
     "output_type": "error",
     "ename": "NameError",
     "evalue": "name 'df' is not defined",
     "traceback": [
      "\u001b[0;31m---------------------------------------------------------------------------\u001b[0m",
      "\u001b[0;31mNameError\u001b[0m                                 Traceback (most recent call last)",
      "\u001b[0;32m<ipython-input-1-b81dcd6ac230>\u001b[0m in \u001b[0;36m<module>\u001b[0;34m\u001b[0m\n\u001b[0;32m----> 1\u001b[0;31m \u001b[0mdf\u001b[0m\u001b[0;34m[\u001b[0m\u001b[0mdf\u001b[0m\u001b[0;34m[\u001b[0m\u001b[0;34m\"fecha_creacion\"\u001b[0m\u001b[0;34m]\u001b[0m\u001b[0;34m.\u001b[0m\u001b[0mdt\u001b[0m\u001b[0;34m.\u001b[0m\u001b[0myear\u001b[0m\u001b[0;34m]\u001b[0m\u001b[0;34m\u001b[0m\u001b[0;34m\u001b[0m\u001b[0m\n\u001b[0m",
      "\u001b[0;31mNameError\u001b[0m: name 'df' is not defined"
     ]
    }
   ],
   "source": [
    "dS1[dS1[\"fecha_creacion\"].dt.year]"
   ]
  },
  {
   "cell_type": "code",
   "execution_count": null,
   "metadata": {},
   "outputs": [],
   "source": []
  },
  {
   "cell_type": "code",
   "execution_count": null,
   "metadata": {},
   "outputs": [],
   "source": []
  }
 ],
 "metadata": {
  "kernelspec": {
   "display_name": "Python 3",
   "language": "python",
   "name": "python3"
  },
  "language_info": {
   "codemirror_mode": {
    "name": "ipython",
    "version": 3
   },
   "file_extension": ".py",
   "mimetype": "text/x-python",
   "name": "python",
   "nbconvert_exporter": "python",
   "pygments_lexer": "ipython3",
   "version": "3.9.2-final"
  }
 },
 "nbformat": 4,
 "nbformat_minor": 4
}