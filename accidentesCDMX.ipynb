{
 "cells": [
  {
   "cell_type": "markdown",
   "metadata": {},
   "source": [
    "# Importación de datos"
   ]
  },
  {
   "cell_type": "code",
   "execution_count": 1,
   "metadata": {},
   "outputs": [],
   "source": [
    "import pandas as pd"
   ]
  },
  {
   "cell_type": "code",
   "execution_count": 2,
   "metadata": {},
   "outputs": [
    {
     "output_type": "execute_result",
     "data": {
      "text/plain": [
       "             folio fecha_creacion hora_creacion dia_semana  \\\n",
       "0  C5/170622/06952     22/06/2017      20:34:45     Jueves   \n",
       "1  C5/170622/05115     22/06/2017      16:41:14     Jueves   \n",
       "2  C5/170622/03715     22/06/2017      13:44:52     Jueves   \n",
       "3  C5/170622/05317     22/06/2017      17:08:58     Jueves   \n",
       "4  C5/170622/05348     22/06/2017      17:12:38     Jueves   \n",
       "\n",
       "                                       codigo_cierre fecha_cierre  año_cierre  \\\n",
       "0  (D) El incidente reportado se registró en dos ...   22/06/2017        2017   \n",
       "1  (D) El incidente reportado se registró en dos ...   22/06/2017        2017   \n",
       "2  (N) La unidad de atención a emergencias fue de...   22/06/2017        2017   \n",
       "3  (D) El incidente reportado se registró en dos ...   22/06/2017        2017   \n",
       "4  (D) El incidente reportado se registró en dos ...   22/06/2017        2017   \n",
       "\n",
       "  mes_cierre hora_cierre    delegacion_inicio  \\\n",
       "0      Junio    20:39:42           MILPA ALTA   \n",
       "1      Junio    16:46:02              TLAHUAC   \n",
       "2      Junio    16:48:07  VENUSTIANO CARRANZA   \n",
       "3      Junio    17:20:34           IZTAPALAPA   \n",
       "4      Junio    17:25:27           IZTAPALAPA   \n",
       "\n",
       "                      incidente_c4   latitud  longitud  clas_con_f_alarma  \\\n",
       "0  accidente-choque sin lesionados  19.20137 -99.00732         EMERGENCIA   \n",
       "1  accidente-choque sin lesionados  19.29659 -99.03443         EMERGENCIA   \n",
       "2  accidente-choque sin lesionados  19.43053 -99.05260         EMERGENCIA   \n",
       "3  accidente-choque con lesionados  19.36189 -99.12243  URGENCIAS MEDICAS   \n",
       "4  accidente-choque con lesionados  19.36168 -99.12210  URGENCIAS MEDICAS   \n",
       "\n",
       "      tipo_entrada    delegacion_cierre                  geopoint  mes  \n",
       "0  LLAMADA DEL 911           MILPA ALTA  19.20137004,-99.00731988    6  \n",
       "1  LLAMADA DEL 911              TLAHUAC  19.29659004,-99.03443004    6  \n",
       "2  LLAMADA DEL 911  VENUSTIANO CARRANZA  19.43053002,-99.05259996    6  \n",
       "3  LLAMADA DEL 911           IZTAPALAPA  19.36188999,-99.12242988    6  \n",
       "4  LLAMADA DEL 911           IZTAPALAPA  19.36168002,-99.12210012    6  "
      ],
      "text/html": "<div>\n<style scoped>\n    .dataframe tbody tr th:only-of-type {\n        vertical-align: middle;\n    }\n\n    .dataframe tbody tr th {\n        vertical-align: top;\n    }\n\n    .dataframe thead th {\n        text-align: right;\n    }\n</style>\n<table border=\"1\" class=\"dataframe\">\n  <thead>\n    <tr style=\"text-align: right;\">\n      <th></th>\n      <th>folio</th>\n      <th>fecha_creacion</th>\n      <th>hora_creacion</th>\n      <th>dia_semana</th>\n      <th>codigo_cierre</th>\n      <th>fecha_cierre</th>\n      <th>año_cierre</th>\n      <th>mes_cierre</th>\n      <th>hora_cierre</th>\n      <th>delegacion_inicio</th>\n      <th>incidente_c4</th>\n      <th>latitud</th>\n      <th>longitud</th>\n      <th>clas_con_f_alarma</th>\n      <th>tipo_entrada</th>\n      <th>delegacion_cierre</th>\n      <th>geopoint</th>\n      <th>mes</th>\n    </tr>\n  </thead>\n  <tbody>\n    <tr>\n      <th>0</th>\n      <td>C5/170622/06952</td>\n      <td>22/06/2017</td>\n      <td>20:34:45</td>\n      <td>Jueves</td>\n      <td>(D) El incidente reportado se registró en dos ...</td>\n      <td>22/06/2017</td>\n      <td>2017</td>\n      <td>Junio</td>\n      <td>20:39:42</td>\n      <td>MILPA ALTA</td>\n      <td>accidente-choque sin lesionados</td>\n      <td>19.20137</td>\n      <td>-99.00732</td>\n      <td>EMERGENCIA</td>\n      <td>LLAMADA DEL 911</td>\n      <td>MILPA ALTA</td>\n      <td>19.20137004,-99.00731988</td>\n      <td>6</td>\n    </tr>\n    <tr>\n      <th>1</th>\n      <td>C5/170622/05115</td>\n      <td>22/06/2017</td>\n      <td>16:41:14</td>\n      <td>Jueves</td>\n      <td>(D) El incidente reportado se registró en dos ...</td>\n      <td>22/06/2017</td>\n      <td>2017</td>\n      <td>Junio</td>\n      <td>16:46:02</td>\n      <td>TLAHUAC</td>\n      <td>accidente-choque sin lesionados</td>\n      <td>19.29659</td>\n      <td>-99.03443</td>\n      <td>EMERGENCIA</td>\n      <td>LLAMADA DEL 911</td>\n      <td>TLAHUAC</td>\n      <td>19.29659004,-99.03443004</td>\n      <td>6</td>\n    </tr>\n    <tr>\n      <th>2</th>\n      <td>C5/170622/03715</td>\n      <td>22/06/2017</td>\n      <td>13:44:52</td>\n      <td>Jueves</td>\n      <td>(N) La unidad de atención a emergencias fue de...</td>\n      <td>22/06/2017</td>\n      <td>2017</td>\n      <td>Junio</td>\n      <td>16:48:07</td>\n      <td>VENUSTIANO CARRANZA</td>\n      <td>accidente-choque sin lesionados</td>\n      <td>19.43053</td>\n      <td>-99.05260</td>\n      <td>EMERGENCIA</td>\n      <td>LLAMADA DEL 911</td>\n      <td>VENUSTIANO CARRANZA</td>\n      <td>19.43053002,-99.05259996</td>\n      <td>6</td>\n    </tr>\n    <tr>\n      <th>3</th>\n      <td>C5/170622/05317</td>\n      <td>22/06/2017</td>\n      <td>17:08:58</td>\n      <td>Jueves</td>\n      <td>(D) El incidente reportado se registró en dos ...</td>\n      <td>22/06/2017</td>\n      <td>2017</td>\n      <td>Junio</td>\n      <td>17:20:34</td>\n      <td>IZTAPALAPA</td>\n      <td>accidente-choque con lesionados</td>\n      <td>19.36189</td>\n      <td>-99.12243</td>\n      <td>URGENCIAS MEDICAS</td>\n      <td>LLAMADA DEL 911</td>\n      <td>IZTAPALAPA</td>\n      <td>19.36188999,-99.12242988</td>\n      <td>6</td>\n    </tr>\n    <tr>\n      <th>4</th>\n      <td>C5/170622/05348</td>\n      <td>22/06/2017</td>\n      <td>17:12:38</td>\n      <td>Jueves</td>\n      <td>(D) El incidente reportado se registró en dos ...</td>\n      <td>22/06/2017</td>\n      <td>2017</td>\n      <td>Junio</td>\n      <td>17:25:27</td>\n      <td>IZTAPALAPA</td>\n      <td>accidente-choque con lesionados</td>\n      <td>19.36168</td>\n      <td>-99.12210</td>\n      <td>URGENCIAS MEDICAS</td>\n      <td>LLAMADA DEL 911</td>\n      <td>IZTAPALAPA</td>\n      <td>19.36168002,-99.12210012</td>\n      <td>6</td>\n    </tr>\n  </tbody>\n</table>\n</div>"
     },
     "metadata": {},
     "execution_count": 2
    }
   ],
   "source": [
    "data = pd.read_csv(\"data/incidentes-viales-c5-2017.csv\")\n",
    "data.head()"
   ]
  },
  {
   "cell_type": "code",
   "execution_count": 3,
   "metadata": {},
   "outputs": [
    {
     "output_type": "error",
     "ename": "FileNotFoundError",
     "evalue": "[Errno 2] No such file or directory: 'data/incidentes-viales-c5-2021.csv'",
     "traceback": [
      "\u001b[0;31m---------------------------------------------------------------------------\u001b[0m",
      "\u001b[0;31mFileNotFoundError\u001b[0m                         Traceback (most recent call last)",
      "\u001b[0;32m<ipython-input-3-072d07042e4d>\u001b[0m in \u001b[0;36m<module>\u001b[0;34m\u001b[0m\n\u001b[1;32m      1\u001b[0m \u001b[0myears\u001b[0m \u001b[0;34m=\u001b[0m \u001b[0;34m[\u001b[0m\u001b[0;34m\"2018\"\u001b[0m\u001b[0;34m,\u001b[0m \u001b[0;34m\"2019\"\u001b[0m\u001b[0;34m,\u001b[0m \u001b[0;34m\"2021\"\u001b[0m\u001b[0;34m]\u001b[0m\u001b[0;34m\u001b[0m\u001b[0;34m\u001b[0m\u001b[0m\n\u001b[1;32m      2\u001b[0m \u001b[0;32mfor\u001b[0m \u001b[0my\u001b[0m \u001b[0;32min\u001b[0m \u001b[0myears\u001b[0m\u001b[0;34m:\u001b[0m\u001b[0;34m\u001b[0m\u001b[0;34m\u001b[0m\u001b[0m\n\u001b[0;32m----> 3\u001b[0;31m     \u001b[0mdf\u001b[0m \u001b[0;34m=\u001b[0m \u001b[0mpd\u001b[0m\u001b[0;34m.\u001b[0m\u001b[0mread_csv\u001b[0m\u001b[0;34m(\u001b[0m\u001b[0;34mf\"data/incidentes-viales-c5-{y}.csv\"\u001b[0m\u001b[0;34m)\u001b[0m\u001b[0;34m\u001b[0m\u001b[0;34m\u001b[0m\u001b[0m\n\u001b[0m\u001b[1;32m      4\u001b[0m     \u001b[0mdata\u001b[0m \u001b[0;34m=\u001b[0m \u001b[0mpd\u001b[0m\u001b[0;34m.\u001b[0m\u001b[0mconcat\u001b[0m\u001b[0;34m(\u001b[0m\u001b[0;34m[\u001b[0m\u001b[0mdata\u001b[0m\u001b[0;34m,\u001b[0m \u001b[0mdf\u001b[0m\u001b[0;34m]\u001b[0m\u001b[0;34m,\u001b[0m \u001b[0maxis\u001b[0m\u001b[0;34m=\u001b[0m\u001b[0;36m0\u001b[0m\u001b[0;34m,\u001b[0m \u001b[0mignore_index\u001b[0m\u001b[0;34m=\u001b[0m\u001b[0;32mTrue\u001b[0m\u001b[0;34m)\u001b[0m\u001b[0;34m\u001b[0m\u001b[0;34m\u001b[0m\u001b[0m\n",
      "\u001b[0;32m~/.local/lib/python3.9/site-packages/pandas/io/parsers.py\u001b[0m in \u001b[0;36mread_csv\u001b[0;34m(filepath_or_buffer, sep, delimiter, header, names, index_col, usecols, squeeze, prefix, mangle_dupe_cols, dtype, engine, converters, true_values, false_values, skipinitialspace, skiprows, skipfooter, nrows, na_values, keep_default_na, na_filter, verbose, skip_blank_lines, parse_dates, infer_datetime_format, keep_date_col, date_parser, dayfirst, cache_dates, iterator, chunksize, compression, thousands, decimal, lineterminator, quotechar, quoting, doublequote, escapechar, comment, encoding, dialect, error_bad_lines, warn_bad_lines, delim_whitespace, low_memory, memory_map, float_precision, storage_options)\u001b[0m\n\u001b[1;32m    608\u001b[0m     \u001b[0mkwds\u001b[0m\u001b[0;34m.\u001b[0m\u001b[0mupdate\u001b[0m\u001b[0;34m(\u001b[0m\u001b[0mkwds_defaults\u001b[0m\u001b[0;34m)\u001b[0m\u001b[0;34m\u001b[0m\u001b[0;34m\u001b[0m\u001b[0m\n\u001b[1;32m    609\u001b[0m \u001b[0;34m\u001b[0m\u001b[0m\n\u001b[0;32m--> 610\u001b[0;31m     \u001b[0;32mreturn\u001b[0m \u001b[0m_read\u001b[0m\u001b[0;34m(\u001b[0m\u001b[0mfilepath_or_buffer\u001b[0m\u001b[0;34m,\u001b[0m \u001b[0mkwds\u001b[0m\u001b[0;34m)\u001b[0m\u001b[0;34m\u001b[0m\u001b[0;34m\u001b[0m\u001b[0m\n\u001b[0m\u001b[1;32m    611\u001b[0m \u001b[0;34m\u001b[0m\u001b[0m\n\u001b[1;32m    612\u001b[0m \u001b[0;34m\u001b[0m\u001b[0m\n",
      "\u001b[0;32m~/.local/lib/python3.9/site-packages/pandas/io/parsers.py\u001b[0m in \u001b[0;36m_read\u001b[0;34m(filepath_or_buffer, kwds)\u001b[0m\n\u001b[1;32m    460\u001b[0m \u001b[0;34m\u001b[0m\u001b[0m\n\u001b[1;32m    461\u001b[0m     \u001b[0;31m# Create the parser.\u001b[0m\u001b[0;34m\u001b[0m\u001b[0;34m\u001b[0m\u001b[0;34m\u001b[0m\u001b[0m\n\u001b[0;32m--> 462\u001b[0;31m     \u001b[0mparser\u001b[0m \u001b[0;34m=\u001b[0m \u001b[0mTextFileReader\u001b[0m\u001b[0;34m(\u001b[0m\u001b[0mfilepath_or_buffer\u001b[0m\u001b[0;34m,\u001b[0m \u001b[0;34m**\u001b[0m\u001b[0mkwds\u001b[0m\u001b[0;34m)\u001b[0m\u001b[0;34m\u001b[0m\u001b[0;34m\u001b[0m\u001b[0m\n\u001b[0m\u001b[1;32m    463\u001b[0m \u001b[0;34m\u001b[0m\u001b[0m\n\u001b[1;32m    464\u001b[0m     \u001b[0;32mif\u001b[0m \u001b[0mchunksize\u001b[0m \u001b[0;32mor\u001b[0m \u001b[0miterator\u001b[0m\u001b[0;34m:\u001b[0m\u001b[0;34m\u001b[0m\u001b[0;34m\u001b[0m\u001b[0m\n",
      "\u001b[0;32m~/.local/lib/python3.9/site-packages/pandas/io/parsers.py\u001b[0m in \u001b[0;36m__init__\u001b[0;34m(self, f, engine, **kwds)\u001b[0m\n\u001b[1;32m    817\u001b[0m             \u001b[0mself\u001b[0m\u001b[0;34m.\u001b[0m\u001b[0moptions\u001b[0m\u001b[0;34m[\u001b[0m\u001b[0;34m\"has_index_names\"\u001b[0m\u001b[0;34m]\u001b[0m \u001b[0;34m=\u001b[0m \u001b[0mkwds\u001b[0m\u001b[0;34m[\u001b[0m\u001b[0;34m\"has_index_names\"\u001b[0m\u001b[0;34m]\u001b[0m\u001b[0;34m\u001b[0m\u001b[0;34m\u001b[0m\u001b[0m\n\u001b[1;32m    818\u001b[0m \u001b[0;34m\u001b[0m\u001b[0m\n\u001b[0;32m--> 819\u001b[0;31m         \u001b[0mself\u001b[0m\u001b[0;34m.\u001b[0m\u001b[0m_engine\u001b[0m \u001b[0;34m=\u001b[0m \u001b[0mself\u001b[0m\u001b[0;34m.\u001b[0m\u001b[0m_make_engine\u001b[0m\u001b[0;34m(\u001b[0m\u001b[0mself\u001b[0m\u001b[0;34m.\u001b[0m\u001b[0mengine\u001b[0m\u001b[0;34m)\u001b[0m\u001b[0;34m\u001b[0m\u001b[0;34m\u001b[0m\u001b[0m\n\u001b[0m\u001b[1;32m    820\u001b[0m \u001b[0;34m\u001b[0m\u001b[0m\n\u001b[1;32m    821\u001b[0m     \u001b[0;32mdef\u001b[0m \u001b[0mclose\u001b[0m\u001b[0;34m(\u001b[0m\u001b[0mself\u001b[0m\u001b[0;34m)\u001b[0m\u001b[0;34m:\u001b[0m\u001b[0;34m\u001b[0m\u001b[0;34m\u001b[0m\u001b[0m\n",
      "\u001b[0;32m~/.local/lib/python3.9/site-packages/pandas/io/parsers.py\u001b[0m in \u001b[0;36m_make_engine\u001b[0;34m(self, engine)\u001b[0m\n\u001b[1;32m   1048\u001b[0m             )\n\u001b[1;32m   1049\u001b[0m         \u001b[0;31m# error: Too many arguments for \"ParserBase\"\u001b[0m\u001b[0;34m\u001b[0m\u001b[0;34m\u001b[0m\u001b[0;34m\u001b[0m\u001b[0m\n\u001b[0;32m-> 1050\u001b[0;31m         \u001b[0;32mreturn\u001b[0m \u001b[0mmapping\u001b[0m\u001b[0;34m[\u001b[0m\u001b[0mengine\u001b[0m\u001b[0;34m]\u001b[0m\u001b[0;34m(\u001b[0m\u001b[0mself\u001b[0m\u001b[0;34m.\u001b[0m\u001b[0mf\u001b[0m\u001b[0;34m,\u001b[0m \u001b[0;34m**\u001b[0m\u001b[0mself\u001b[0m\u001b[0;34m.\u001b[0m\u001b[0moptions\u001b[0m\u001b[0;34m)\u001b[0m  \u001b[0;31m# type: ignore[call-arg]\u001b[0m\u001b[0;34m\u001b[0m\u001b[0;34m\u001b[0m\u001b[0m\n\u001b[0m\u001b[1;32m   1051\u001b[0m \u001b[0;34m\u001b[0m\u001b[0m\n\u001b[1;32m   1052\u001b[0m     \u001b[0;32mdef\u001b[0m \u001b[0m_failover_to_python\u001b[0m\u001b[0;34m(\u001b[0m\u001b[0mself\u001b[0m\u001b[0;34m)\u001b[0m\u001b[0;34m:\u001b[0m\u001b[0;34m\u001b[0m\u001b[0;34m\u001b[0m\u001b[0m\n",
      "\u001b[0;32m~/.local/lib/python3.9/site-packages/pandas/io/parsers.py\u001b[0m in \u001b[0;36m__init__\u001b[0;34m(self, src, **kwds)\u001b[0m\n\u001b[1;32m   1865\u001b[0m \u001b[0;34m\u001b[0m\u001b[0m\n\u001b[1;32m   1866\u001b[0m         \u001b[0;31m# open handles\u001b[0m\u001b[0;34m\u001b[0m\u001b[0;34m\u001b[0m\u001b[0;34m\u001b[0m\u001b[0m\n\u001b[0;32m-> 1867\u001b[0;31m         \u001b[0mself\u001b[0m\u001b[0;34m.\u001b[0m\u001b[0m_open_handles\u001b[0m\u001b[0;34m(\u001b[0m\u001b[0msrc\u001b[0m\u001b[0;34m,\u001b[0m \u001b[0mkwds\u001b[0m\u001b[0;34m)\u001b[0m\u001b[0;34m\u001b[0m\u001b[0;34m\u001b[0m\u001b[0m\n\u001b[0m\u001b[1;32m   1868\u001b[0m         \u001b[0;32massert\u001b[0m \u001b[0mself\u001b[0m\u001b[0;34m.\u001b[0m\u001b[0mhandles\u001b[0m \u001b[0;32mis\u001b[0m \u001b[0;32mnot\u001b[0m \u001b[0;32mNone\u001b[0m\u001b[0;34m\u001b[0m\u001b[0;34m\u001b[0m\u001b[0m\n\u001b[1;32m   1869\u001b[0m         \u001b[0;32mfor\u001b[0m \u001b[0mkey\u001b[0m \u001b[0;32min\u001b[0m \u001b[0;34m(\u001b[0m\u001b[0;34m\"storage_options\"\u001b[0m\u001b[0;34m,\u001b[0m \u001b[0;34m\"encoding\"\u001b[0m\u001b[0;34m,\u001b[0m \u001b[0;34m\"memory_map\"\u001b[0m\u001b[0;34m,\u001b[0m \u001b[0;34m\"compression\"\u001b[0m\u001b[0;34m)\u001b[0m\u001b[0;34m:\u001b[0m\u001b[0;34m\u001b[0m\u001b[0;34m\u001b[0m\u001b[0m\n",
      "\u001b[0;32m~/.local/lib/python3.9/site-packages/pandas/io/parsers.py\u001b[0m in \u001b[0;36m_open_handles\u001b[0;34m(self, src, kwds)\u001b[0m\n\u001b[1;32m   1360\u001b[0m         \u001b[0mLet\u001b[0m \u001b[0mthe\u001b[0m \u001b[0mreaders\u001b[0m \u001b[0mopen\u001b[0m \u001b[0mIOHanldes\u001b[0m \u001b[0mafter\u001b[0m \u001b[0mthey\u001b[0m \u001b[0mare\u001b[0m \u001b[0mdone\u001b[0m \u001b[0;32mwith\u001b[0m \u001b[0mtheir\u001b[0m \u001b[0mpotential\u001b[0m \u001b[0mraises\u001b[0m\u001b[0;34m.\u001b[0m\u001b[0;34m\u001b[0m\u001b[0;34m\u001b[0m\u001b[0m\n\u001b[1;32m   1361\u001b[0m         \"\"\"\n\u001b[0;32m-> 1362\u001b[0;31m         self.handles = get_handle(\n\u001b[0m\u001b[1;32m   1363\u001b[0m             \u001b[0msrc\u001b[0m\u001b[0;34m,\u001b[0m\u001b[0;34m\u001b[0m\u001b[0;34m\u001b[0m\u001b[0m\n\u001b[1;32m   1364\u001b[0m             \u001b[0;34m\"r\"\u001b[0m\u001b[0;34m,\u001b[0m\u001b[0;34m\u001b[0m\u001b[0;34m\u001b[0m\u001b[0m\n",
      "\u001b[0;32m~/.local/lib/python3.9/site-packages/pandas/io/common.py\u001b[0m in \u001b[0;36mget_handle\u001b[0;34m(path_or_buf, mode, encoding, compression, memory_map, is_text, errors, storage_options)\u001b[0m\n\u001b[1;32m    640\u001b[0m                 \u001b[0merrors\u001b[0m \u001b[0;34m=\u001b[0m \u001b[0;34m\"replace\"\u001b[0m\u001b[0;34m\u001b[0m\u001b[0;34m\u001b[0m\u001b[0m\n\u001b[1;32m    641\u001b[0m             \u001b[0;31m# Encoding\u001b[0m\u001b[0;34m\u001b[0m\u001b[0;34m\u001b[0m\u001b[0;34m\u001b[0m\u001b[0m\n\u001b[0;32m--> 642\u001b[0;31m             handle = open(\n\u001b[0m\u001b[1;32m    643\u001b[0m                 \u001b[0mhandle\u001b[0m\u001b[0;34m,\u001b[0m\u001b[0;34m\u001b[0m\u001b[0;34m\u001b[0m\u001b[0m\n\u001b[1;32m    644\u001b[0m                 \u001b[0mioargs\u001b[0m\u001b[0;34m.\u001b[0m\u001b[0mmode\u001b[0m\u001b[0;34m,\u001b[0m\u001b[0;34m\u001b[0m\u001b[0;34m\u001b[0m\u001b[0m\n",
      "\u001b[0;31mFileNotFoundError\u001b[0m: [Errno 2] No such file or directory: 'data/incidentes-viales-c5-2021.csv'"
     ]
    }
   ],
   "source": [
    "years = [\"2018\", \"2019\", \"2021\"]\n",
    "for y in years:\n",
    "    df = pd.read_csv(f\"data/incidentes-viales-c5-{y}.csv\")\n",
    "    data = pd.concat([data, df], axis=0, ignore_index=True)"
   ]
  },
  {
   "cell_type": "markdown",
   "metadata": {},
   "source": [
    "# Análisis exploratorio"
   ]
  },
  {
   "cell_type": "code",
   "execution_count": null,
   "metadata": {},
   "outputs": [],
   "source": [
    "data.head()"
   ]
  },
  {
   "cell_type": "code",
   "execution_count": null,
   "metadata": {},
   "outputs": [],
   "source": [
    "data.tail()"
   ]
  },
  {
   "cell_type": "code",
   "execution_count": 47,
   "metadata": {
    "scrolled": true
   },
   "outputs": [
    {
     "data": {
      "text/plain": [
       "folio                 object\n",
       "fecha_creacion        object\n",
       "hora_creacion         object\n",
       "dia_semana            object\n",
       "codigo_cierre         object\n",
       "fecha_cierre          object\n",
       "año_cierre            object\n",
       "mes_cierre            object\n",
       "hora_cierre           object\n",
       "delegacion_inicio     object\n",
       "incidente_c4          object\n",
       "latitud              float64\n",
       "longitud             float64\n",
       "clas_con_f_alarma     object\n",
       "tipo_entrada          object\n",
       "delegacion_cierre     object\n",
       "geopoint              object\n",
       "mes                   object\n",
       "aÃ±o_cierre          float64\n",
       "Unnamed: 0           float64\n",
       "ano                  float64\n",
       "dtype: object"
      ]
     },
     "execution_count": 47,
     "metadata": {},
     "output_type": "execute_result"
    }
   ],
   "source": [
    "data.dtypes"
   ]
  },
  {
   "cell_type": "markdown",
   "metadata": {},
   "source": [
    "Cambiar:  \n",
    "* Fecha de creacion -> fecha\n",
    "* Hora de creación \n",
    "* codigo de cierre -> categorico\n",
    "* Fecha de cierre -> fecha\n",
    "* año de cierre -> eliminar\n",
    "* mes de cierre -> eliminar\n",
    "* Hora de cierre ->  tiempo\n",
    "* Delegación -> Categorico\n",
    "* incidente_c4 -> Categorico\n",
    "* clas_con_f_alarma -> Categorico\n",
    "* tipo_entrada -> Categorico\n",
    "* delegacion_cierre -> categorico\n",
    "* geopoint -> eliminar\n",
    "* mes -> categorica\n",
    "* unnamed -> eliminar\n"
   ]
  },
  {
   "cell_type": "markdown",
   "metadata": {},
   "source": [
    "# Limpieza"
   ]
  },
  {
   "cell_type": "code",
   "execution_count": 39,
   "metadata": {},
   "outputs": [],
   "source": [
    "data['fecha_hora_cierre'] = pd.to_datetime(data['fecha_cierre']+ \" \" + data['hora_cierre'])"
   ]
  },
  {
   "cell_type": "code",
   "execution_count": 35,
   "metadata": {},
   "outputs": [],
   "source": [
    "data['fecha_hora_creacion'] = pd.to_datetime(data['fecha_creacion']+ \" \" + data['hora_creacion'])"
   ]
  },
  {
   "cell_type": "code",
   "execution_count": 6,
   "metadata": {},
   "outputs": [
    {
     "output_type": "execute_result",
     "data": {
      "text/plain": [
       "Index(['folio', 'fecha_creacion', 'hora_creacion', 'dia_semana',\n",
       "       'codigo_cierre', 'fecha_cierre', 'año_cierre', 'mes_cierre',\n",
       "       'hora_cierre', 'delegacion_inicio', 'incidente_c4', 'latitud',\n",
       "       'longitud', 'clas_con_f_alarma', 'tipo_entrada', 'delegacion_cierre',\n",
       "       'geopoint', 'mes'],\n",
       "      dtype='object')"
      ]
     },
     "metadata": {},
     "execution_count": 6
    }
   ],
   "source": [
    "data.columns"
   ]
  },
  {
   "cell_type": "code",
   "execution_count": 30,
   "metadata": {},
   "outputs": [],
   "source": [
    "# Borrar columnas \n",
    "diccionario_de_conversion = {\n",
    "    'fecha_creacion': 'datetime64[ns]',\n",
    "    'fecha_cierre': 'datetime64[ns]', \n",
    "    'hora_creacion': 'time', # 20:39:42\n",
    "    'hora_cierre':'time'\n",
    "}"
   ]
  },
  {
   "cell_type": "code",
   "execution_count": 41,
   "metadata": {},
   "outputs": [],
   "source": [
    "data.drop(columns=['dia_semana', 'año_cierre', 'mes_cierre','fecha_cierre', 'fecha_creacion', 'hora_cierre', 'hora_creacion'], inplace=True)"
   ]
  },
  {
   "cell_type": "code",
   "execution_count": 29,
   "metadata": {},
   "outputs": [
    {
     "output_type": "error",
     "ename": "TypeError",
     "evalue": "data type 'time' not understood",
     "traceback": [
      "\u001b[0;31m---------------------------------------------------------------------------\u001b[0m",
      "\u001b[0;31mTypeError\u001b[0m                                 Traceback (most recent call last)",
      "\u001b[0;32m<ipython-input-29-f1fd5777c03a>\u001b[0m in \u001b[0;36m<module>\u001b[0;34m\u001b[0m\n\u001b[0;32m----> 1\u001b[0;31m \u001b[0mdt\u001b[0m \u001b[0;34m=\u001b[0m \u001b[0mdata\u001b[0m\u001b[0;34m.\u001b[0m\u001b[0mastype\u001b[0m\u001b[0;34m(\u001b[0m\u001b[0mdiccionario_de_conversion\u001b[0m\u001b[0;34m)\u001b[0m\u001b[0;34m\u001b[0m\u001b[0;34m\u001b[0m\u001b[0m\n\u001b[0m",
      "\u001b[0;32m~/.local/lib/python3.9/site-packages/pandas/core/generic.py\u001b[0m in \u001b[0;36mastype\u001b[0;34m(self, dtype, copy, errors)\u001b[0m\n\u001b[1;32m   5857\u001b[0m                 \u001b[0;32mif\u001b[0m \u001b[0mcol_name\u001b[0m \u001b[0;32min\u001b[0m \u001b[0mdtype\u001b[0m\u001b[0;34m:\u001b[0m\u001b[0;34m\u001b[0m\u001b[0;34m\u001b[0m\u001b[0m\n\u001b[1;32m   5858\u001b[0m                     results.append(\n\u001b[0;32m-> 5859\u001b[0;31m                         \u001b[0mcol\u001b[0m\u001b[0;34m.\u001b[0m\u001b[0mastype\u001b[0m\u001b[0;34m(\u001b[0m\u001b[0mdtype\u001b[0m\u001b[0;34m=\u001b[0m\u001b[0mdtype\u001b[0m\u001b[0;34m[\u001b[0m\u001b[0mcol_name\u001b[0m\u001b[0;34m]\u001b[0m\u001b[0;34m,\u001b[0m \u001b[0mcopy\u001b[0m\u001b[0;34m=\u001b[0m\u001b[0mcopy\u001b[0m\u001b[0;34m,\u001b[0m \u001b[0merrors\u001b[0m\u001b[0;34m=\u001b[0m\u001b[0merrors\u001b[0m\u001b[0;34m)\u001b[0m\u001b[0;34m\u001b[0m\u001b[0;34m\u001b[0m\u001b[0m\n\u001b[0m\u001b[1;32m   5860\u001b[0m                     )\n\u001b[1;32m   5861\u001b[0m                 \u001b[0;32melse\u001b[0m\u001b[0;34m:\u001b[0m\u001b[0;34m\u001b[0m\u001b[0;34m\u001b[0m\u001b[0m\n",
      "\u001b[0;32m~/.local/lib/python3.9/site-packages/pandas/core/generic.py\u001b[0m in \u001b[0;36mastype\u001b[0;34m(self, dtype, copy, errors)\u001b[0m\n\u001b[1;32m   5872\u001b[0m         \u001b[0;32melse\u001b[0m\u001b[0;34m:\u001b[0m\u001b[0;34m\u001b[0m\u001b[0;34m\u001b[0m\u001b[0m\n\u001b[1;32m   5873\u001b[0m             \u001b[0;31m# else, only a single dtype is given\u001b[0m\u001b[0;34m\u001b[0m\u001b[0;34m\u001b[0m\u001b[0;34m\u001b[0m\u001b[0m\n\u001b[0;32m-> 5874\u001b[0;31m             \u001b[0mnew_data\u001b[0m \u001b[0;34m=\u001b[0m \u001b[0mself\u001b[0m\u001b[0;34m.\u001b[0m\u001b[0m_mgr\u001b[0m\u001b[0;34m.\u001b[0m\u001b[0mastype\u001b[0m\u001b[0;34m(\u001b[0m\u001b[0mdtype\u001b[0m\u001b[0;34m=\u001b[0m\u001b[0mdtype\u001b[0m\u001b[0;34m,\u001b[0m \u001b[0mcopy\u001b[0m\u001b[0;34m=\u001b[0m\u001b[0mcopy\u001b[0m\u001b[0;34m,\u001b[0m \u001b[0merrors\u001b[0m\u001b[0;34m=\u001b[0m\u001b[0merrors\u001b[0m\u001b[0;34m)\u001b[0m\u001b[0;34m\u001b[0m\u001b[0;34m\u001b[0m\u001b[0m\n\u001b[0m\u001b[1;32m   5875\u001b[0m             \u001b[0;32mreturn\u001b[0m \u001b[0mself\u001b[0m\u001b[0;34m.\u001b[0m\u001b[0m_constructor\u001b[0m\u001b[0;34m(\u001b[0m\u001b[0mnew_data\u001b[0m\u001b[0;34m)\u001b[0m\u001b[0;34m.\u001b[0m\u001b[0m__finalize__\u001b[0m\u001b[0;34m(\u001b[0m\u001b[0mself\u001b[0m\u001b[0;34m,\u001b[0m \u001b[0mmethod\u001b[0m\u001b[0;34m=\u001b[0m\u001b[0;34m\"astype\"\u001b[0m\u001b[0;34m)\u001b[0m\u001b[0;34m\u001b[0m\u001b[0;34m\u001b[0m\u001b[0m\n\u001b[1;32m   5876\u001b[0m \u001b[0;34m\u001b[0m\u001b[0m\n",
      "\u001b[0;32m~/.local/lib/python3.9/site-packages/pandas/core/internals/managers.py\u001b[0m in \u001b[0;36mastype\u001b[0;34m(self, dtype, copy, errors)\u001b[0m\n\u001b[1;32m    629\u001b[0m         \u001b[0mself\u001b[0m\u001b[0;34m,\u001b[0m \u001b[0mdtype\u001b[0m\u001b[0;34m,\u001b[0m \u001b[0mcopy\u001b[0m\u001b[0;34m:\u001b[0m \u001b[0mbool\u001b[0m \u001b[0;34m=\u001b[0m \u001b[0;32mFalse\u001b[0m\u001b[0;34m,\u001b[0m \u001b[0merrors\u001b[0m\u001b[0;34m:\u001b[0m \u001b[0mstr\u001b[0m \u001b[0;34m=\u001b[0m \u001b[0;34m\"raise\"\u001b[0m\u001b[0;34m\u001b[0m\u001b[0;34m\u001b[0m\u001b[0m\n\u001b[1;32m    630\u001b[0m     ) -> \"BlockManager\":\n\u001b[0;32m--> 631\u001b[0;31m         \u001b[0;32mreturn\u001b[0m \u001b[0mself\u001b[0m\u001b[0;34m.\u001b[0m\u001b[0mapply\u001b[0m\u001b[0;34m(\u001b[0m\u001b[0;34m\"astype\"\u001b[0m\u001b[0;34m,\u001b[0m \u001b[0mdtype\u001b[0m\u001b[0;34m=\u001b[0m\u001b[0mdtype\u001b[0m\u001b[0;34m,\u001b[0m \u001b[0mcopy\u001b[0m\u001b[0;34m=\u001b[0m\u001b[0mcopy\u001b[0m\u001b[0;34m,\u001b[0m \u001b[0merrors\u001b[0m\u001b[0;34m=\u001b[0m\u001b[0merrors\u001b[0m\u001b[0;34m)\u001b[0m\u001b[0;34m\u001b[0m\u001b[0;34m\u001b[0m\u001b[0m\n\u001b[0m\u001b[1;32m    632\u001b[0m \u001b[0;34m\u001b[0m\u001b[0m\n\u001b[1;32m    633\u001b[0m     def convert(\n",
      "\u001b[0;32m~/.local/lib/python3.9/site-packages/pandas/core/internals/managers.py\u001b[0m in \u001b[0;36mapply\u001b[0;34m(self, f, align_keys, ignore_failures, **kwargs)\u001b[0m\n\u001b[1;32m    425\u001b[0m                     \u001b[0mapplied\u001b[0m \u001b[0;34m=\u001b[0m \u001b[0mb\u001b[0m\u001b[0;34m.\u001b[0m\u001b[0mapply\u001b[0m\u001b[0;34m(\u001b[0m\u001b[0mf\u001b[0m\u001b[0;34m,\u001b[0m \u001b[0;34m**\u001b[0m\u001b[0mkwargs\u001b[0m\u001b[0;34m)\u001b[0m\u001b[0;34m\u001b[0m\u001b[0;34m\u001b[0m\u001b[0m\n\u001b[1;32m    426\u001b[0m                 \u001b[0;32melse\u001b[0m\u001b[0;34m:\u001b[0m\u001b[0;34m\u001b[0m\u001b[0;34m\u001b[0m\u001b[0m\n\u001b[0;32m--> 427\u001b[0;31m                     \u001b[0mapplied\u001b[0m \u001b[0;34m=\u001b[0m \u001b[0mgetattr\u001b[0m\u001b[0;34m(\u001b[0m\u001b[0mb\u001b[0m\u001b[0;34m,\u001b[0m \u001b[0mf\u001b[0m\u001b[0;34m)\u001b[0m\u001b[0;34m(\u001b[0m\u001b[0;34m**\u001b[0m\u001b[0mkwargs\u001b[0m\u001b[0;34m)\u001b[0m\u001b[0;34m\u001b[0m\u001b[0;34m\u001b[0m\u001b[0m\n\u001b[0m\u001b[1;32m    428\u001b[0m             \u001b[0;32mexcept\u001b[0m \u001b[0;34m(\u001b[0m\u001b[0mTypeError\u001b[0m\u001b[0;34m,\u001b[0m \u001b[0mNotImplementedError\u001b[0m\u001b[0;34m)\u001b[0m\u001b[0;34m:\u001b[0m\u001b[0;34m\u001b[0m\u001b[0;34m\u001b[0m\u001b[0m\n\u001b[1;32m    429\u001b[0m                 \u001b[0;32mif\u001b[0m \u001b[0;32mnot\u001b[0m \u001b[0mignore_failures\u001b[0m\u001b[0;34m:\u001b[0m\u001b[0;34m\u001b[0m\u001b[0;34m\u001b[0m\u001b[0m\n",
      "\u001b[0;32m~/.local/lib/python3.9/site-packages/pandas/core/internals/blocks.py\u001b[0m in \u001b[0;36mastype\u001b[0;34m(self, dtype, copy, errors)\u001b[0m\n\u001b[1;32m    624\u001b[0m \u001b[0;34m\u001b[0m\u001b[0m\n\u001b[1;32m    625\u001b[0m         \u001b[0;32mif\u001b[0m \u001b[0mdtype\u001b[0m \u001b[0;32mis\u001b[0m \u001b[0;32mnot\u001b[0m \u001b[0;32mNone\u001b[0m\u001b[0;34m:\u001b[0m\u001b[0;34m\u001b[0m\u001b[0;34m\u001b[0m\u001b[0m\n\u001b[0;32m--> 626\u001b[0;31m             \u001b[0mdtype\u001b[0m \u001b[0;34m=\u001b[0m \u001b[0mpandas_dtype\u001b[0m\u001b[0;34m(\u001b[0m\u001b[0mdtype\u001b[0m\u001b[0;34m)\u001b[0m\u001b[0;34m\u001b[0m\u001b[0;34m\u001b[0m\u001b[0m\n\u001b[0m\u001b[1;32m    627\u001b[0m \u001b[0;34m\u001b[0m\u001b[0m\n\u001b[1;32m    628\u001b[0m         \u001b[0;31m# may need to convert to categorical\u001b[0m\u001b[0;34m\u001b[0m\u001b[0;34m\u001b[0m\u001b[0;34m\u001b[0m\u001b[0m\n",
      "\u001b[0;32m~/.local/lib/python3.9/site-packages/pandas/core/dtypes/common.py\u001b[0m in \u001b[0;36mpandas_dtype\u001b[0;34m(dtype)\u001b[0m\n\u001b[1;32m   1797\u001b[0m     \u001b[0;31m# raise a consistent TypeError if failed\u001b[0m\u001b[0;34m\u001b[0m\u001b[0;34m\u001b[0m\u001b[0;34m\u001b[0m\u001b[0m\n\u001b[1;32m   1798\u001b[0m     \u001b[0;32mtry\u001b[0m\u001b[0;34m:\u001b[0m\u001b[0;34m\u001b[0m\u001b[0;34m\u001b[0m\u001b[0m\n\u001b[0;32m-> 1799\u001b[0;31m         \u001b[0mnpdtype\u001b[0m \u001b[0;34m=\u001b[0m \u001b[0mnp\u001b[0m\u001b[0;34m.\u001b[0m\u001b[0mdtype\u001b[0m\u001b[0;34m(\u001b[0m\u001b[0mdtype\u001b[0m\u001b[0;34m)\u001b[0m\u001b[0;34m\u001b[0m\u001b[0;34m\u001b[0m\u001b[0m\n\u001b[0m\u001b[1;32m   1800\u001b[0m     \u001b[0;32mexcept\u001b[0m \u001b[0mSyntaxError\u001b[0m \u001b[0;32mas\u001b[0m \u001b[0merr\u001b[0m\u001b[0;34m:\u001b[0m\u001b[0;34m\u001b[0m\u001b[0;34m\u001b[0m\u001b[0m\n\u001b[1;32m   1801\u001b[0m         \u001b[0;31m# np.dtype uses `eval` which can raise SyntaxError\u001b[0m\u001b[0;34m\u001b[0m\u001b[0;34m\u001b[0m\u001b[0;34m\u001b[0m\u001b[0m\n",
      "\u001b[0;31mTypeError\u001b[0m: data type 'time' not understood"
     ]
    }
   ],
   "source": [
    "dt = data.astype(diccionario_de_conversion)"
   ]
  },
  {
   "cell_type": "code",
   "execution_count": 42,
   "metadata": {},
   "outputs": [
    {
     "output_type": "execute_result",
     "data": {
      "text/plain": [
       "folio                        object\n",
       "fecha_creacion       datetime64[ns]\n",
       "hora_creacion        datetime64[ns]\n",
       "codigo_cierre                object\n",
       "fecha_cierre         datetime64[ns]\n",
       "hora_cierre          datetime64[ns]\n",
       "delegacion_inicio            object\n",
       "incidente_c4                 object\n",
       "latitud                     float64\n",
       "longitud                    float64\n",
       "clas_con_f_alarma            object\n",
       "tipo_entrada                 object\n",
       "delegacion_cierre            object\n",
       "geopoint                     object\n",
       "mes                           int64\n",
       "dtype: object"
      ]
     },
     "metadata": {},
     "execution_count": 42
    }
   ],
   "source": [
    "dt.dtypes"
   ]
  },
  {
   "cell_type": "code",
   "execution_count": 43,
   "metadata": {},
   "outputs": [
    {
     "output_type": "execute_result",
     "data": {
      "text/plain": [
       "             folio fecha_creacion       hora_creacion  \\\n",
       "0  C5/170622/06952     2017-06-22 2021-03-13 20:34:45   \n",
       "1  C5/170622/05115     2017-06-22 2021-03-13 16:41:14   \n",
       "2  C5/170622/03715     2017-06-22 2021-03-13 13:44:52   \n",
       "3  C5/170622/05317     2017-06-22 2021-03-13 17:08:58   \n",
       "4  C5/170622/05348     2017-06-22 2021-03-13 17:12:38   \n",
       "\n",
       "                                       codigo_cierre fecha_cierre  \\\n",
       "0  (D) El incidente reportado se registró en dos ...   2017-06-22   \n",
       "1  (D) El incidente reportado se registró en dos ...   2017-06-22   \n",
       "2  (N) La unidad de atención a emergencias fue de...   2017-06-22   \n",
       "3  (D) El incidente reportado se registró en dos ...   2017-06-22   \n",
       "4  (D) El incidente reportado se registró en dos ...   2017-06-22   \n",
       "\n",
       "          hora_cierre    delegacion_inicio                     incidente_c4  \\\n",
       "0 2021-03-13 20:39:42           MILPA ALTA  accidente-choque sin lesionados   \n",
       "1 2021-03-13 16:46:02              TLAHUAC  accidente-choque sin lesionados   \n",
       "2 2021-03-13 16:48:07  VENUSTIANO CARRANZA  accidente-choque sin lesionados   \n",
       "3 2021-03-13 17:20:34           IZTAPALAPA  accidente-choque con lesionados   \n",
       "4 2021-03-13 17:25:27           IZTAPALAPA  accidente-choque con lesionados   \n",
       "\n",
       "    latitud  longitud  clas_con_f_alarma     tipo_entrada  \\\n",
       "0  19.20137 -99.00732         EMERGENCIA  LLAMADA DEL 911   \n",
       "1  19.29659 -99.03443         EMERGENCIA  LLAMADA DEL 911   \n",
       "2  19.43053 -99.05260         EMERGENCIA  LLAMADA DEL 911   \n",
       "3  19.36189 -99.12243  URGENCIAS MEDICAS  LLAMADA DEL 911   \n",
       "4  19.36168 -99.12210  URGENCIAS MEDICAS  LLAMADA DEL 911   \n",
       "\n",
       "     delegacion_cierre                  geopoint  mes  \n",
       "0           MILPA ALTA  19.20137004,-99.00731988    6  \n",
       "1              TLAHUAC  19.29659004,-99.03443004    6  \n",
       "2  VENUSTIANO CARRANZA  19.43053002,-99.05259996    6  \n",
       "3           IZTAPALAPA  19.36188999,-99.12242988    6  \n",
       "4           IZTAPALAPA  19.36168002,-99.12210012    6  "
      ],
      "text/html": "<div>\n<style scoped>\n    .dataframe tbody tr th:only-of-type {\n        vertical-align: middle;\n    }\n\n    .dataframe tbody tr th {\n        vertical-align: top;\n    }\n\n    .dataframe thead th {\n        text-align: right;\n    }\n</style>\n<table border=\"1\" class=\"dataframe\">\n  <thead>\n    <tr style=\"text-align: right;\">\n      <th></th>\n      <th>folio</th>\n      <th>fecha_creacion</th>\n      <th>hora_creacion</th>\n      <th>codigo_cierre</th>\n      <th>fecha_cierre</th>\n      <th>hora_cierre</th>\n      <th>delegacion_inicio</th>\n      <th>incidente_c4</th>\n      <th>latitud</th>\n      <th>longitud</th>\n      <th>clas_con_f_alarma</th>\n      <th>tipo_entrada</th>\n      <th>delegacion_cierre</th>\n      <th>geopoint</th>\n      <th>mes</th>\n    </tr>\n  </thead>\n  <tbody>\n    <tr>\n      <th>0</th>\n      <td>C5/170622/06952</td>\n      <td>2017-06-22</td>\n      <td>2021-03-13 20:34:45</td>\n      <td>(D) El incidente reportado se registró en dos ...</td>\n      <td>2017-06-22</td>\n      <td>2021-03-13 20:39:42</td>\n      <td>MILPA ALTA</td>\n      <td>accidente-choque sin lesionados</td>\n      <td>19.20137</td>\n      <td>-99.00732</td>\n      <td>EMERGENCIA</td>\n      <td>LLAMADA DEL 911</td>\n      <td>MILPA ALTA</td>\n      <td>19.20137004,-99.00731988</td>\n      <td>6</td>\n    </tr>\n    <tr>\n      <th>1</th>\n      <td>C5/170622/05115</td>\n      <td>2017-06-22</td>\n      <td>2021-03-13 16:41:14</td>\n      <td>(D) El incidente reportado se registró en dos ...</td>\n      <td>2017-06-22</td>\n      <td>2021-03-13 16:46:02</td>\n      <td>TLAHUAC</td>\n      <td>accidente-choque sin lesionados</td>\n      <td>19.29659</td>\n      <td>-99.03443</td>\n      <td>EMERGENCIA</td>\n      <td>LLAMADA DEL 911</td>\n      <td>TLAHUAC</td>\n      <td>19.29659004,-99.03443004</td>\n      <td>6</td>\n    </tr>\n    <tr>\n      <th>2</th>\n      <td>C5/170622/03715</td>\n      <td>2017-06-22</td>\n      <td>2021-03-13 13:44:52</td>\n      <td>(N) La unidad de atención a emergencias fue de...</td>\n      <td>2017-06-22</td>\n      <td>2021-03-13 16:48:07</td>\n      <td>VENUSTIANO CARRANZA</td>\n      <td>accidente-choque sin lesionados</td>\n      <td>19.43053</td>\n      <td>-99.05260</td>\n      <td>EMERGENCIA</td>\n      <td>LLAMADA DEL 911</td>\n      <td>VENUSTIANO CARRANZA</td>\n      <td>19.43053002,-99.05259996</td>\n      <td>6</td>\n    </tr>\n    <tr>\n      <th>3</th>\n      <td>C5/170622/05317</td>\n      <td>2017-06-22</td>\n      <td>2021-03-13 17:08:58</td>\n      <td>(D) El incidente reportado se registró en dos ...</td>\n      <td>2017-06-22</td>\n      <td>2021-03-13 17:20:34</td>\n      <td>IZTAPALAPA</td>\n      <td>accidente-choque con lesionados</td>\n      <td>19.36189</td>\n      <td>-99.12243</td>\n      <td>URGENCIAS MEDICAS</td>\n      <td>LLAMADA DEL 911</td>\n      <td>IZTAPALAPA</td>\n      <td>19.36188999,-99.12242988</td>\n      <td>6</td>\n    </tr>\n    <tr>\n      <th>4</th>\n      <td>C5/170622/05348</td>\n      <td>2017-06-22</td>\n      <td>2021-03-13 17:12:38</td>\n      <td>(D) El incidente reportado se registró en dos ...</td>\n      <td>2017-06-22</td>\n      <td>2021-03-13 17:25:27</td>\n      <td>IZTAPALAPA</td>\n      <td>accidente-choque con lesionados</td>\n      <td>19.36168</td>\n      <td>-99.12210</td>\n      <td>URGENCIAS MEDICAS</td>\n      <td>LLAMADA DEL 911</td>\n      <td>IZTAPALAPA</td>\n      <td>19.36168002,-99.12210012</td>\n      <td>6</td>\n    </tr>\n  </tbody>\n</table>\n</div>"
     },
     "metadata": {},
     "execution_count": 43
    }
   ],
   "source": [
    "dt.head()"
   ]
  },
  {
   "cell_type": "code",
   "execution_count": null,
   "metadata": {},
   "outputs": [],
   "source": []
  }
 ],
 "metadata": {
  "kernelspec": {
   "display_name": "Python 3",
   "language": "python",
   "name": "python3"
  },
  "language_info": {
   "codemirror_mode": {
    "name": "ipython",
    "version": 3
   },
   "file_extension": ".py",
   "mimetype": "text/x-python",
   "name": "python",
   "nbconvert_exporter": "python",
   "pygments_lexer": "ipython3",
   "version": "3.9.2-final"
  }
 },
 "nbformat": 4,
 "nbformat_minor": 4
}