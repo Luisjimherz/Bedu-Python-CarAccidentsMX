{
 "cells": [
  {
   "cell_type": "markdown",
   "id": "liked-charge",
   "metadata": {},
   "source": [
    "# Importar librerías"
   ]
  },
  {
   "cell_type": "code",
   "execution_count": 2,
   "id": "vanilla-prisoner",
   "metadata": {},
   "outputs": [],
   "source": [
    "import pandas as pd\n",
    "import datetime as dt"
   ]
  },
  {
   "cell_type": "markdown",
   "id": "cognitive-equivalent",
   "metadata": {},
   "source": [
    "# Re-castear los datos de fecha"
   ]
  },
  {
   "cell_type": "code",
   "execution_count": 4,
   "id": "living-preview",
   "metadata": {},
   "outputs": [],
   "source": [
    "df = pd.read_csv(\"data/incidentes-viales-c5-limpio.csv\", sep=\"$\", index_col = 0)\n",
    "df.reset_index(inplace = True, drop = True)"
   ]
  },
  {
   "cell_type": "code",
   "execution_count": 5,
   "id": "disturbed-affairs",
   "metadata": {},
   "outputs": [],
   "source": [
    "conversion = {\"fecha_hora_cierre\": \"datetime64[ns]\", \"fecha_hora_creacion\": \"datetime64[ns]\"}\n",
    "df = df.astype(conversion)"
   ]
  },
  {
   "cell_type": "markdown",
   "id": "smart-effect",
   "metadata": {},
   "source": [
    "## ¿Qué tan letales son los accidentes automovilísticos?\n",
    "#### Parámetro: datos que reporten cadáveres / cantidad de reportes totales por mes"
   ]
  },
  {
   "cell_type": "code",
   "execution_count": 11,
   "id": "russian-monaco",
   "metadata": {},
   "outputs": [],
   "source": [
    "series_muertos = df[df[\"incidente_c4\"].str.contains(\"cadáver\")].groupby([df[\"fecha_hora_creacion\"].dt.year,\"mes\"]).count()[\"incidente_c4\"]\n",
    "series_total = df.groupby([df[\"fecha_hora_creacion\"].dt.year,\"mes\"]).count()[\"incidente_c4\"]\n",
    "\n",
    "letalidad_mensual = series_muertos * 100 / series_total\n",
    "\n",
    "letalidad_mensual = letalidad_mensual[[(2016,  1),\n",
    "            (2017,  1), (2017,  2), (2017,  3), (2017,  4), (2017,  5), (2017,  6), (2017,  7), (2017,  8), (2017,  9),\n",
    "            (2017, 10), (2017, 11), (2017, 12), (2018,  1), (2018,  2), (2018,  3), (2018,  4), (2018,  5), (2018,  6),\n",
    "            (2018,  7), (2018,  8), (2018,  9), (2018, 10), (2018, 11), (2018, 12), (2019,  1), (2019,  2), (2019,  3),\n",
    "            (2019,  4), (2019,  5), (2019,  6), (2019,  7), (2019,  8), (2019,  9), (2019, 10), (2019, 11), (2021,  2)]]"
   ]
  },
  {
   "cell_type": "code",
   "execution_count": 12,
   "id": "extraordinary-challenge",
   "metadata": {},
   "outputs": [
    {
     "name": "stdout",
     "output_type": "stream",
     "text": [
      "fecha_hora_creacion  mes\n",
      "2016                 1      5.555556\n",
      "2017                 1      0.376963\n",
      "                     2      0.228401\n",
      "                     3      0.323218\n",
      "                     4      0.302657\n",
      "                     5      0.263638\n",
      "                     6      0.262161\n",
      "                     7      0.281690\n",
      "                     8      0.241905\n",
      "                     9      0.201959\n",
      "                     10     0.209132\n",
      "                     11     0.174383\n",
      "                     12     0.270065\n",
      "2018                 1      0.255389\n",
      "                     2      0.249750\n",
      "                     3      0.348465\n",
      "                     4      0.177140\n",
      "                     5      0.150576\n",
      "                     6      0.227187\n",
      "                     7      0.189621\n",
      "                     8      0.161175\n",
      "                     9      0.217175\n",
      "                     10     0.334994\n",
      "                     11     0.286692\n",
      "                     12     0.251031\n",
      "2019                 1      0.253632\n",
      "                     2      0.312264\n",
      "                     3      0.320606\n",
      "                     4      0.283554\n",
      "                     5      0.299434\n",
      "                     6      0.300363\n",
      "                     7      0.290886\n",
      "                     8      0.359712\n",
      "                     9      0.301322\n",
      "                     10     0.208080\n",
      "                     11     0.327376\n",
      "2021                 2      0.506329\n",
      "Name: incidente_c4, dtype: float64\n"
     ]
    }
   ],
   "source": [
    "print(letalidad_mensual)"
   ]
  },
  {
   "cell_type": "code",
   "execution_count": 14,
   "id": "simple-cherry",
   "metadata": {},
   "outputs": [
    {
     "data": {
      "text/plain": [
       "<AxesSubplot:xlabel='letalidad mensual', ylabel='porcentaje'>"
      ]
     },
     "execution_count": 14,
     "metadata": {},
     "output_type": "execute_result"
    },
    {
     "data": {
      "image/png": "[encoded data removed]",
      "text/plain": [
       "<Figure size 720x720 with 1 Axes>"
      ]
     },
     "metadata": {
      "needs_background": "light"
     },
     "output_type": "display_data"
    }
   ],
   "source": [
    "letalidad_mensual.plot(figsize=(10,10), xlabel = \"letalidad mensual\", ylabel = \"porcentaje\")"
   ]
  },
  {
   "cell_type": "markdown",
   "id": "enabling-update",
   "metadata": {},
   "source": [
    "##### Conclusión\n",
    "A través de los 3 años (2017 a 2019) se va visto una letalidad que oscila entre 0.15 % y 0.37 %. Además, los únicos datos que tenemos del 2021 son de febrero y tienen una letalidad considerablemente mayor a los tres años anteriores."
   ]
  },
  {
   "cell_type": "markdown",
   "id": "exotic-bidding",
   "metadata": {},
   "source": [
    "## ¿La pandemia ha influido en la ocurrencia de los incidentes?\n",
    "#### ¿Qué tan letal ha sido?"
   ]
  },
  {
   "cell_type": "markdown",
   "id": "accepted-weather",
   "metadata": {},
   "source": [
    "##### Conclusión\n",
    "Dado a que se perdieron los datos de todo 2020 y primeros del 2021, no se puede responder con certeza el efecto de la pandemia sobre los incidentes."
   ]
  },
  {
   "cell_type": "markdown",
   "id": "appropriate-magic",
   "metadata": {},
   "source": [
    "## ¿Qué tipos de accidentes son más comunes?"
   ]
  },
  {
   "cell_type": "code",
   "execution_count": 169,
   "id": "retired-hierarchy",
   "metadata": {},
   "outputs": [
    {
     "data": {
      "text/plain": [
       "incidente_c4\n",
       "accidente-choque sin lesionados                  227757\n",
       "accidente-choque con lesionados                   72114\n",
       "lesionado-atropellado                             36245\n",
       "accidente-motociclista                            21686\n",
       "accidente-volcadura                                4777\n",
       "accidente-persona atrapada / desbarrancada         2274\n",
       "accidente-vehiculo atrapado                         831\n",
       "accidente-otros                                     684\n",
       "cadáver-atropellado                                 582\n",
       "accidente-ciclista                                  524\n",
       "accidente-choque con prensados                      461\n",
       "cadáver-accidente automovilístico                   406\n",
       "sismo-choque sin lesionados                         256\n",
       "accidente-vehiculo desbarrancado                    214\n",
       "accidente-vehículo atrapado-varado                  168\n",
       "detención ciudadana-atropellado                     131\n",
       "sismo-choque con lesionados                          83\n",
       "detención ciudadana-accidente automovilístico        37\n",
       "accidente-ferroviario                                18\n",
       "accidente-monopatín                                  16\n",
       "mi ciudad-calle-incidente de tránsito                12\n",
       "sismo-persona atropellada                             3\n",
       "sismo-choque con prensados                            1\n",
       "Name: fecha_hora_creacion, dtype: int64"
      ]
     },
     "execution_count": 169,
     "metadata": {},
     "output_type": "execute_result"
    }
   ],
   "source": [
    "df.groupby(by=\"incidente_c4\").count()[\"fecha_hora_creacion\"].sort_values(ascending=False)"
   ]
  },
  {
   "cell_type": "markdown",
   "id": "fifteen-gregory",
   "metadata": {},
   "source": [
    "#### Conclusión\n",
    "Afortunadamente, la mayoría de los incidentes automovilísticos son choques sin lesionados"
   ]
  }
 ],
 "metadata": {
  "kernelspec": {
   "display_name": "Python 3",
   "language": "python",
   "name": "python3"
  },
  "language_info": {
   "codemirror_mode": {
    "name": "ipython",
    "version": 3
   },
   "file_extension": ".py",
   "mimetype": "text/x-python",
   "name": "python",
   "nbconvert_exporter": "python",
   "pygments_lexer": "ipython3",
   "version": "3.9.2"
  }
 },
 "nbformat": 4,
 "nbformat_minor": 5
}
