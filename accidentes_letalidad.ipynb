{
 "cells": [
  {
   "cell_type": "markdown",
   "id": "liked-charge",
   "metadata": {},
   "source": [
    "# Importar librerías"
   ]
  },
  {
   "cell_type": "code",
   "execution_count": 100,
   "id": "vanilla-prisoner",
   "metadata": {},
   "outputs": [],
   "source": [
    "import pandas as pd\n",
    "import datetime as dt"
   ]
  },
  {
   "cell_type": "markdown",
   "id": "cognitive-equivalent",
   "metadata": {},
   "source": [
    "# Re-castear los datos de fecha"
   ]
  },
  {
   "cell_type": "code",
   "execution_count": 159,
   "id": "living-preview",
   "metadata": {},
   "outputs": [],
   "source": [
    "df = pd.read_csv(\"data/incidentes-viales-c5-limpio.csv\", sep=\"$\", index_col = 0)\n",
    "df.reset_index(inplace = True, drop = True)"
   ]
  },
  {
   "cell_type": "code",
   "execution_count": 160,
   "id": "disturbed-affairs",
   "metadata": {},
   "outputs": [],
   "source": [
    "conversion = {\"fecha_hora_cierre\": \"datetime64[ns]\", \"fecha_hora_creacion\": \"datetime64[ns]\"}\n",
    "df = df.astype(conversion)\n",
    "\n",
    "df[\"fecha_hora_creacion\"] = df[\"fecha_hora_creacion\"].dt.strftime(\"%y-%m-%d %H:%M:%S\")\n",
    "df[\"fecha_hora_cierre\"] = df[\"fecha_hora_cierre\"].dt.strftime(\"%y-%m-%d %H:%M:%S\")\n",
    "\n",
    "df[\"fecha_hora_creacion\"] = pd.to_datetime(df[\"fecha_hora_creacion\"])\n",
    "df[\"fecha_hora_cierre\"] = pd.to_datetime(df[\"fecha_hora_cierre\"])"
   ]
  },
  {
   "cell_type": "markdown",
   "id": "smart-effect",
   "metadata": {},
   "source": [
    "## ¿Qué tan letales son los accidentes automovilísticos?\n",
    "#### Parámetro: datos que reporten cadáveres / cantidad de reportes totales por mes"
   ]
  },
  {
   "cell_type": "code",
   "execution_count": 170,
   "id": "russian-monaco",
   "metadata": {},
   "outputs": [],
   "source": [
    "series_muertos = df[df[\"incidente_c4\"].str.contains(\"cadáver\")].groupby(pd.Grouper(key='fecha_hora_creacion', freq='M')).count()[\"incidente_c4\"]\n",
    "series_total = df.groupby(pd.Grouper(key='fecha_hora_creacion', freq='M')).count()[\"incidente_c4\"]\n",
    "\n",
    "letalidad_mensual = series_muertos * 100 / series_total\n",
    "\n",
    "letalidad_mensual = letalidad_mensual[['2017-01-31', '2017-02-28', '2017-03-31',\n",
    "               '2017-04-30', '2017-05-31', '2017-06-30', '2017-07-31',\n",
    "               '2017-08-31', '2017-09-30', '2017-10-31', '2017-11-30',\n",
    "               '2017-12-31', '2018-01-31', '2018-02-28', '2018-03-31',\n",
    "               '2018-04-30', '2018-05-31', '2018-06-30', '2018-07-31',\n",
    "               '2018-08-31', '2018-09-30', '2018-10-31', '2018-11-30',\n",
    "               '2018-12-31', '2019-01-31', '2019-02-28', '2019-03-31',\n",
    "               '2019-04-30', '2019-05-31', '2019-06-30', '2019-07-31',\n",
    "               '2019-08-31', '2019-09-30', '2019-10-31', '2019-11-30',\n",
    "               '2019-12-31', '2020-01-31', '2020-02-29', '2020-03-31',\n",
    "               '2020-04-30', '2020-05-31', '2020-06-30', '2020-07-31',\n",
    "               '2020-08-31', '2020-09-30', '2020-10-31', '2020-11-30',\n",
    "               '2020-12-31', '2021-01-31', '2021-02-28']]"
   ]
  },
  {
   "cell_type": "code",
   "execution_count": 171,
   "id": "extraordinary-challenge",
   "metadata": {},
   "outputs": [
    {
     "name": "stdout",
     "output_type": "stream",
     "text": [
      "fecha_hora_creacion\n",
      "2017-01-31    0.302419\n",
      "2017-02-28    0.292398\n",
      "2017-03-31    0.560748\n",
      "2017-04-30    0.358423\n",
      "2017-05-31    0.311203\n",
      "2017-06-30    0.395257\n",
      "2017-07-31    0.240674\n",
      "2017-08-31    0.086580\n",
      "2017-09-30    0.000000\n",
      "2017-10-31    0.330579\n",
      "2017-11-30    0.251678\n",
      "2017-12-31    0.000000\n",
      "2018-01-31    0.297915\n",
      "2018-02-28    0.229008\n",
      "2018-03-31    0.500626\n",
      "2018-04-30    0.249066\n",
      "2018-05-31    0.275482\n",
      "2018-06-30    0.103734\n",
      "2018-07-31    0.107411\n",
      "2018-08-31    0.084674\n",
      "2018-09-30    0.186047\n",
      "2018-10-31    0.088810\n",
      "2018-11-30    0.641711\n",
      "2018-12-31    0.244798\n",
      "2019-01-31    0.098814\n",
      "2019-02-28    0.399680\n",
      "2019-03-31    0.360577\n",
      "2019-04-30    0.399467\n",
      "2019-05-31    0.264784\n",
      "2019-06-30    0.000000\n",
      "2019-07-31    0.103093\n",
      "2019-08-31    0.298507\n",
      "2019-09-30    0.106157\n",
      "2019-10-31    0.163666\n",
      "2019-11-30    0.000000\n",
      "2019-12-31    0.243309\n",
      "2020-01-31    0.692384\n",
      "2020-02-29    0.441176\n",
      "2020-03-31    0.351288\n",
      "2020-04-30    0.462963\n",
      "2020-05-31    0.192308\n",
      "2020-06-30    0.219539\n",
      "2020-07-31    0.483092\n",
      "2020-08-31    0.208551\n",
      "2020-09-30    0.000000\n",
      "2020-10-31    0.262238\n",
      "2020-11-30    0.563910\n",
      "2020-12-31    0.000000\n",
      "2021-01-31    0.105597\n",
      "2021-02-28    0.323363\n",
      "Name: incidente_c4, dtype: float64\n"
     ]
    }
   ],
   "source": [
    "print(letalidad_mensual)"
   ]
  },
  {
   "cell_type": "code",
   "execution_count": 151,
   "id": "simple-cherry",
   "metadata": {},
   "outputs": [
    {
     "data": {
      "text/plain": [
       "<AxesSubplot:xlabel='fecha_hora_creacion'>"
      ]
     },
     "execution_count": 151,
     "metadata": {},
     "output_type": "execute_result"
    },
    {
     "data": {
      "image/png": "[encoded data removed]",
      "text/plain": [
       "<Figure size 432x288 with 1 Axes>"
      ]
     },
     "metadata": {
      "needs_background": "light"
     },
     "output_type": "display_data"
    }
   ],
   "source": [
    "letalidad_mensual.plot()"
   ]
  },
  {
   "cell_type": "markdown",
   "id": "enabling-update",
   "metadata": {},
   "source": [
    "##### Conclusión\n",
    "A través de los 3 años (2017 a 2019) se va visto una letalidad que oscila entre 0.15 % y 0.37 %"
   ]
  },
  {
   "cell_type": "markdown",
   "id": "exotic-bidding",
   "metadata": {},
   "source": [
    "## ¿La pandemia ha influido en la ocurrencia de los incidentes?\n",
    "#### ¿Qué tan letal ha sido?"
   ]
  },
  {
   "cell_type": "markdown",
   "id": "accepted-weather",
   "metadata": {},
   "source": [
    "##### Conclusión\n",
    "Dado a que se perdieron los datos de todo 2020 y primeros del 2021, no se puede responder con certeza el efecto de la pandemia sobre los incidentes."
   ]
  },
  {
   "cell_type": "markdown",
   "id": "appropriate-magic",
   "metadata": {},
   "source": [
    "## ¿Qué tipos de accidentes son más comunes?"
   ]
  },
  {
   "cell_type": "code",
   "execution_count": 169,
   "id": "retired-hierarchy",
   "metadata": {},
   "outputs": [
    {
     "data": {
      "text/plain": [
       "incidente_c4\n",
       "accidente-choque sin lesionados                  227757\n",
       "accidente-choque con lesionados                   72114\n",
       "lesionado-atropellado                             36245\n",
       "accidente-motociclista                            21686\n",
       "accidente-volcadura                                4777\n",
       "accidente-persona atrapada / desbarrancada         2274\n",
       "accidente-vehiculo atrapado                         831\n",
       "accidente-otros                                     684\n",
       "cadáver-atropellado                                 582\n",
       "accidente-ciclista                                  524\n",
       "accidente-choque con prensados                      461\n",
       "cadáver-accidente automovilístico                   406\n",
       "sismo-choque sin lesionados                         256\n",
       "accidente-vehiculo desbarrancado                    214\n",
       "accidente-vehículo atrapado-varado                  168\n",
       "detención ciudadana-atropellado                     131\n",
       "sismo-choque con lesionados                          83\n",
       "detención ciudadana-accidente automovilístico        37\n",
       "accidente-ferroviario                                18\n",
       "accidente-monopatín                                  16\n",
       "mi ciudad-calle-incidente de tránsito                12\n",
       "sismo-persona atropellada                             3\n",
       "sismo-choque con prensados                            1\n",
       "Name: fecha_hora_creacion, dtype: int64"
      ]
     },
     "execution_count": 169,
     "metadata": {},
     "output_type": "execute_result"
    }
   ],
   "source": [
    "df.groupby(by=\"incidente_c4\").count()[\"fecha_hora_creacion\"].sort_values(ascending=False)"
   ]
  },
  {
   "cell_type": "markdown",
   "id": "fifteen-gregory",
   "metadata": {},
   "source": [
    "#### Conclusión\n",
    "Afortunadamente, la mayoría de los incidentes automovilísticos son choques sin lesionados"
   ]
  },
  {
   "cell_type": "code",
   "execution_count": 139,
   "id": "rapid-heather",
   "metadata": {},
   "outputs": [],
   "source": [
    "incidentes_totales = df.groupby([df['fecha_hora_creacion'].dt.year, df['fecha_hora_creacion'].dt.month]).agg({'incidente_c4':\"count\"})"
   ]
  },
  {
   "cell_type": "code",
   "execution_count": 142,
   "id": "entitled-therapist",
   "metadata": {},
   "outputs": [
    {
     "data": {
      "text/plain": [
       "array([<AxesSubplot:title={'center':'(incidente_c4, 2016)'}, xlabel='fecha_hora_creacion'>,\n",
       "       <AxesSubplot:title={'center':'(incidente_c4, 2017)'}, xlabel='fecha_hora_creacion'>,\n",
       "       <AxesSubplot:title={'center':'(incidente_c4, 2018)'}, xlabel='fecha_hora_creacion'>,\n",
       "       <AxesSubplot:title={'center':'(incidente_c4, 2019)'}, xlabel='fecha_hora_creacion'>,\n",
       "       <AxesSubplot:title={'center':'(incidente_c4, 2021)'}, xlabel='fecha_hora_creacion'>],\n",
       "      dtype=object)"
      ]
     },
     "execution_count": 142,
     "metadata": {},
     "output_type": "execute_result"
    },
    {
     "data": {
      "image/png": "[encoded data removed]",
      "text/plain": [
       "<Figure size 720x720 with 5 Axes>"
      ]
     },
     "metadata": {
      "needs_background": "light"
     },
     "output_type": "display_data"
    }
   ],
   "source": [
    "incidentes_totales.unstack(level=0).plot(kind='bar', subplots=True, figsize = (10,10))"
   ]
  },
  {
   "cell_type": "code",
   "execution_count": null,
   "id": "coupled-money",
   "metadata": {},
   "outputs": [],
   "source": []
  }
 ],
 "metadata": {
  "kernelspec": {
   "display_name": "Python 3",
   "language": "python",
   "name": "python3"
  },
  "language_info": {
   "codemirror_mode": {
    "name": "ipython",
    "version": 3
   },
   "file_extension": ".py",
   "mimetype": "text/x-python",
   "name": "python",
   "nbconvert_exporter": "python",
   "pygments_lexer": "ipython3",
   "version": "3.9.2"
  }
 },
 "nbformat": 4,
 "nbformat_minor": 5
}
