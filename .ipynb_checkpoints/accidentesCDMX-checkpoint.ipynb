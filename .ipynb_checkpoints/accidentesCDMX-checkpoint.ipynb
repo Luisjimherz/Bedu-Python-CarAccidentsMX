{
 "cells": [
  {
   "cell_type": "markdown",
   "metadata": {},
   "source": [
    "# Importación de datos"
   ]
  },
  {
   "cell_type": "code",
   "execution_count": 2,
   "metadata": {},
   "outputs": [],
   "source": [
    "import pandas as pd"
   ]
  },
  {
   "cell_type": "code",
   "execution_count": 35,
   "metadata": {},
   "outputs": [
    {
     "data": {
      "text/html": [
       "<div>\n",
       "<style scoped>\n",
       "    .dataframe tbody tr th:only-of-type {\n",
       "        vertical-align: middle;\n",
       "    }\n",
       "\n",
       "    .dataframe tbody tr th {\n",
       "        vertical-align: top;\n",
       "    }\n",
       "\n",
       "    .dataframe thead th {\n",
       "        text-align: right;\n",
       "    }\n",
       "</style>\n",
       "<table border=\"1\" class=\"dataframe\">\n",
       "  <thead>\n",
       "    <tr style=\"text-align: right;\">\n",
       "      <th></th>\n",
       "      <th>folio</th>\n",
       "      <th>fecha_creacion</th>\n",
       "      <th>hora_creacion</th>\n",
       "      <th>dia_semana</th>\n",
       "      <th>codigo_cierre</th>\n",
       "      <th>fecha_cierre</th>\n",
       "      <th>año_cierre</th>\n",
       "      <th>mes_cierre</th>\n",
       "      <th>hora_cierre</th>\n",
       "      <th>delegacion_inicio</th>\n",
       "      <th>incidente_c4</th>\n",
       "      <th>latitud</th>\n",
       "      <th>longitud</th>\n",
       "      <th>clas_con_f_alarma</th>\n",
       "      <th>tipo_entrada</th>\n",
       "      <th>delegacion_cierre</th>\n",
       "      <th>geopoint</th>\n",
       "      <th>mes</th>\n",
       "    </tr>\n",
       "  </thead>\n",
       "  <tbody>\n",
       "    <tr>\n",
       "      <th>0</th>\n",
       "      <td>C5/170622/06952</td>\n",
       "      <td>22/06/2017</td>\n",
       "      <td>20:34:45</td>\n",
       "      <td>Jueves</td>\n",
       "      <td>(D) El incidente reportado se registró en dos ...</td>\n",
       "      <td>22/06/2017</td>\n",
       "      <td>2017</td>\n",
       "      <td>Junio</td>\n",
       "      <td>20:39:42</td>\n",
       "      <td>MILPA ALTA</td>\n",
       "      <td>accidente-choque sin lesionados</td>\n",
       "      <td>19.20137</td>\n",
       "      <td>-99.00732</td>\n",
       "      <td>EMERGENCIA</td>\n",
       "      <td>LLAMADA DEL 911</td>\n",
       "      <td>MILPA ALTA</td>\n",
       "      <td>19.20137004,-99.00731988</td>\n",
       "      <td>6</td>\n",
       "    </tr>\n",
       "    <tr>\n",
       "      <th>1</th>\n",
       "      <td>C5/170622/05115</td>\n",
       "      <td>22/06/2017</td>\n",
       "      <td>16:41:14</td>\n",
       "      <td>Jueves</td>\n",
       "      <td>(D) El incidente reportado se registró en dos ...</td>\n",
       "      <td>22/06/2017</td>\n",
       "      <td>2017</td>\n",
       "      <td>Junio</td>\n",
       "      <td>16:46:02</td>\n",
       "      <td>TLAHUAC</td>\n",
       "      <td>accidente-choque sin lesionados</td>\n",
       "      <td>19.29659</td>\n",
       "      <td>-99.03443</td>\n",
       "      <td>EMERGENCIA</td>\n",
       "      <td>LLAMADA DEL 911</td>\n",
       "      <td>TLAHUAC</td>\n",
       "      <td>19.29659004,-99.03443004</td>\n",
       "      <td>6</td>\n",
       "    </tr>\n",
       "    <tr>\n",
       "      <th>2</th>\n",
       "      <td>C5/170622/03715</td>\n",
       "      <td>22/06/2017</td>\n",
       "      <td>13:44:52</td>\n",
       "      <td>Jueves</td>\n",
       "      <td>(N) La unidad de atención a emergencias fue de...</td>\n",
       "      <td>22/06/2017</td>\n",
       "      <td>2017</td>\n",
       "      <td>Junio</td>\n",
       "      <td>16:48:07</td>\n",
       "      <td>VENUSTIANO CARRANZA</td>\n",
       "      <td>accidente-choque sin lesionados</td>\n",
       "      <td>19.43053</td>\n",
       "      <td>-99.05260</td>\n",
       "      <td>EMERGENCIA</td>\n",
       "      <td>LLAMADA DEL 911</td>\n",
       "      <td>VENUSTIANO CARRANZA</td>\n",
       "      <td>19.43053002,-99.05259996</td>\n",
       "      <td>6</td>\n",
       "    </tr>\n",
       "    <tr>\n",
       "      <th>3</th>\n",
       "      <td>C5/170622/05317</td>\n",
       "      <td>22/06/2017</td>\n",
       "      <td>17:08:58</td>\n",
       "      <td>Jueves</td>\n",
       "      <td>(D) El incidente reportado se registró en dos ...</td>\n",
       "      <td>22/06/2017</td>\n",
       "      <td>2017</td>\n",
       "      <td>Junio</td>\n",
       "      <td>17:20:34</td>\n",
       "      <td>IZTAPALAPA</td>\n",
       "      <td>accidente-choque con lesionados</td>\n",
       "      <td>19.36189</td>\n",
       "      <td>-99.12243</td>\n",
       "      <td>URGENCIAS MEDICAS</td>\n",
       "      <td>LLAMADA DEL 911</td>\n",
       "      <td>IZTAPALAPA</td>\n",
       "      <td>19.36188999,-99.12242988</td>\n",
       "      <td>6</td>\n",
       "    </tr>\n",
       "    <tr>\n",
       "      <th>4</th>\n",
       "      <td>C5/170622/05348</td>\n",
       "      <td>22/06/2017</td>\n",
       "      <td>17:12:38</td>\n",
       "      <td>Jueves</td>\n",
       "      <td>(D) El incidente reportado se registró en dos ...</td>\n",
       "      <td>22/06/2017</td>\n",
       "      <td>2017</td>\n",
       "      <td>Junio</td>\n",
       "      <td>17:25:27</td>\n",
       "      <td>IZTAPALAPA</td>\n",
       "      <td>accidente-choque con lesionados</td>\n",
       "      <td>19.36168</td>\n",
       "      <td>-99.12210</td>\n",
       "      <td>URGENCIAS MEDICAS</td>\n",
       "      <td>LLAMADA DEL 911</td>\n",
       "      <td>IZTAPALAPA</td>\n",
       "      <td>19.36168002,-99.12210012</td>\n",
       "      <td>6</td>\n",
       "    </tr>\n",
       "  </tbody>\n",
       "</table>\n",
       "</div>"
      ],
      "text/plain": [
       "             folio fecha_creacion hora_creacion dia_semana  \\\n",
       "0  C5/170622/06952     22/06/2017      20:34:45     Jueves   \n",
       "1  C5/170622/05115     22/06/2017      16:41:14     Jueves   \n",
       "2  C5/170622/03715     22/06/2017      13:44:52     Jueves   \n",
       "3  C5/170622/05317     22/06/2017      17:08:58     Jueves   \n",
       "4  C5/170622/05348     22/06/2017      17:12:38     Jueves   \n",
       "\n",
       "                                       codigo_cierre fecha_cierre  año_cierre  \\\n",
       "0  (D) El incidente reportado se registró en dos ...   22/06/2017        2017   \n",
       "1  (D) El incidente reportado se registró en dos ...   22/06/2017        2017   \n",
       "2  (N) La unidad de atención a emergencias fue de...   22/06/2017        2017   \n",
       "3  (D) El incidente reportado se registró en dos ...   22/06/2017        2017   \n",
       "4  (D) El incidente reportado se registró en dos ...   22/06/2017        2017   \n",
       "\n",
       "  mes_cierre hora_cierre    delegacion_inicio  \\\n",
       "0      Junio    20:39:42           MILPA ALTA   \n",
       "1      Junio    16:46:02              TLAHUAC   \n",
       "2      Junio    16:48:07  VENUSTIANO CARRANZA   \n",
       "3      Junio    17:20:34           IZTAPALAPA   \n",
       "4      Junio    17:25:27           IZTAPALAPA   \n",
       "\n",
       "                      incidente_c4   latitud  longitud  clas_con_f_alarma  \\\n",
       "0  accidente-choque sin lesionados  19.20137 -99.00732         EMERGENCIA   \n",
       "1  accidente-choque sin lesionados  19.29659 -99.03443         EMERGENCIA   \n",
       "2  accidente-choque sin lesionados  19.43053 -99.05260         EMERGENCIA   \n",
       "3  accidente-choque con lesionados  19.36189 -99.12243  URGENCIAS MEDICAS   \n",
       "4  accidente-choque con lesionados  19.36168 -99.12210  URGENCIAS MEDICAS   \n",
       "\n",
       "      tipo_entrada    delegacion_cierre                  geopoint  mes  \n",
       "0  LLAMADA DEL 911           MILPA ALTA  19.20137004,-99.00731988    6  \n",
       "1  LLAMADA DEL 911              TLAHUAC  19.29659004,-99.03443004    6  \n",
       "2  LLAMADA DEL 911  VENUSTIANO CARRANZA  19.43053002,-99.05259996    6  \n",
       "3  LLAMADA DEL 911           IZTAPALAPA  19.36188999,-99.12242988    6  \n",
       "4  LLAMADA DEL 911           IZTAPALAPA  19.36168002,-99.12210012    6  "
      ]
     },
     "execution_count": 35,
     "metadata": {},
     "output_type": "execute_result"
    }
   ],
   "source": [
    "data = pd.read_csv(\"data/incidentes-viales-c5-2017.csv\")\n",
    "data.head()"
   ]
  },
  {
   "cell_type": "code",
   "execution_count": 36,
   "metadata": {},
   "outputs": [],
   "source": [
    "years = [\"2018\", \"2019\", \"2021\"]\n",
    "for y in years:\n",
    "    df = pd.read_csv(f\"data/incidentes-viales-c5-{y}.csv\")\n",
    "    data = pd.concat([data, df], axis=0, ignore_index=True)"
   ]
  },
  {
   "cell_type": "markdown",
   "metadata": {},
   "source": [
    "# Análisis exploratorio"
   ]
  },
  {
   "cell_type": "code",
   "execution_count": null,
   "metadata": {},
   "outputs": [],
   "source": [
    "data.head()"
   ]
  },
  {
   "cell_type": "code",
   "execution_count": null,
   "metadata": {},
   "outputs": [],
   "source": [
    "data.tail()"
   ]
  },
  {
   "cell_type": "code",
   "execution_count": 37,
   "metadata": {
    "scrolled": true
   },
   "outputs": [
    {
     "data": {
      "text/plain": [
       "folio                 object\n",
       "fecha_creacion        object\n",
       "hora_creacion         object\n",
       "dia_semana            object\n",
       "codigo_cierre         object\n",
       "fecha_cierre          object\n",
       "año_cierre           float64\n",
       "mes_cierre            object\n",
       "hora_cierre           object\n",
       "delegacion_inicio     object\n",
       "incidente_c4          object\n",
       "latitud              float64\n",
       "longitud             float64\n",
       "clas_con_f_alarma     object\n",
       "tipo_entrada          object\n",
       "delegacion_cierre     object\n",
       "geopoint              object\n",
       "mes                    int64\n",
       "Unnamed: 0           float64\n",
       "ano                  float64\n",
       "dtype: object"
      ]
     },
     "execution_count": 37,
     "metadata": {},
     "output_type": "execute_result"
    }
   ],
   "source": [
    "data.dtypes"
   ]
  },
  {
   "cell_type": "markdown",
   "metadata": {},
   "source": [
    "Cambiar:  \n",
    "* Fecha de creacion -> fecha\n",
    "* Hora de creación \n",
    "* codigo de cierre -> categorico\n",
    "* Fecha de cierre -> fecha\n",
    "* año de cierre -> eliminar\n",
    "* mes de cierre -> eliminar\n",
    "* Hora de cierre ->  tiempo\n",
    "* Delegación -> Categorico\n",
    "* incidente_c4 -> Categorico\n",
    "* clas_con_f_alarma -> Categorico\n",
    "* tipo_entrada -> Categorico\n",
    "* delegacion_cierre -> categorico\n",
    "* geopoint -> eliminar\n",
    "* mes -> categorica\n",
    "* unnamed -> eliminar\n"
   ]
  },
  {
   "cell_type": "markdown",
   "metadata": {},
   "source": [
    "# Limpieza"
   ]
  },
  {
   "cell_type": "code",
   "execution_count": 38,
   "metadata": {},
   "outputs": [],
   "source": [
    "data['fecha_hora_cierre'] = pd.to_datetime(data['fecha_cierre']+ \" \" + data['hora_cierre'])"
   ]
  },
  {
   "cell_type": "code",
   "execution_count": 39,
   "metadata": {},
   "outputs": [],
   "source": [
    "data['fecha_hora_creacion'] = pd.to_datetime(data['fecha_creacion']+ \" \" + data['hora_creacion'])"
   ]
  },
  {
   "cell_type": "code",
   "execution_count": 40,
   "metadata": {},
   "outputs": [
    {
     "data": {
      "text/plain": [
       "Index(['folio', 'fecha_creacion', 'hora_creacion', 'dia_semana',\n",
       "       'codigo_cierre', 'fecha_cierre', 'año_cierre', 'mes_cierre',\n",
       "       'hora_cierre', 'delegacion_inicio', 'incidente_c4', 'latitud',\n",
       "       'longitud', 'clas_con_f_alarma', 'tipo_entrada', 'delegacion_cierre',\n",
       "       'geopoint', 'mes', 'Unnamed: 0', 'ano', 'fecha_hora_cierre',\n",
       "       'fecha_hora_creacion'],\n",
       "      dtype='object')"
      ]
     },
     "execution_count": 40,
     "metadata": {},
     "output_type": "execute_result"
    }
   ],
   "source": [
    "data.columns"
   ]
  },
  {
   "cell_type": "code",
   "execution_count": 49,
   "metadata": {},
   "outputs": [],
   "source": [
    "data.drop(columns=['dia_semana', 'año_cierre', 'mes_cierre','fecha_cierre', 'fecha_creacion', 'hora_cierre', 'hora_creacion', 'Unnamed: 0', 'ano', \"geopoint\"], inplace=True)"
   ]
  },
  {
   "cell_type": "code",
   "execution_count": 51,
   "metadata": {},
   "outputs": [],
   "source": [
    "# Borrar columnas \n",
    "diccionario_de_conversion = {\n",
    "    'fecha_hora_creacion': 'datetime64[ns]',\n",
    "    'fecha_hora_cierre': 'datetime64[ns]'\n",
    "}"
   ]
  },
  {
   "cell_type": "code",
   "execution_count": 52,
   "metadata": {},
   "outputs": [],
   "source": [
    "dt = data.astype(diccionario_de_conversion)"
   ]
  },
  {
   "cell_type": "code",
   "execution_count": 53,
   "metadata": {},
   "outputs": [
    {
     "data": {
      "text/plain": [
       "folio                          object\n",
       "codigo_cierre                  object\n",
       "delegacion_inicio              object\n",
       "incidente_c4                   object\n",
       "latitud                       float64\n",
       "longitud                      float64\n",
       "clas_con_f_alarma              object\n",
       "tipo_entrada                   object\n",
       "delegacion_cierre              object\n",
       "geopoint                       object\n",
       "mes                             int64\n",
       "fecha_hora_cierre      datetime64[ns]\n",
       "fecha_hora_creacion    datetime64[ns]\n",
       "dtype: object"
      ]
     },
     "execution_count": 53,
     "metadata": {},
     "output_type": "execute_result"
    }
   ],
   "source": [
    "dt.dtypes"
   ]
  },
  {
   "cell_type": "code",
   "execution_count": 54,
   "metadata": {},
   "outputs": [
    {
     "data": {
      "text/html": [
       "<div>\n",
       "<style scoped>\n",
       "    .dataframe tbody tr th:only-of-type {\n",
       "        vertical-align: middle;\n",
       "    }\n",
       "\n",
       "    .dataframe tbody tr th {\n",
       "        vertical-align: top;\n",
       "    }\n",
       "\n",
       "    .dataframe thead th {\n",
       "        text-align: right;\n",
       "    }\n",
       "</style>\n",
       "<table border=\"1\" class=\"dataframe\">\n",
       "  <thead>\n",
       "    <tr style=\"text-align: right;\">\n",
       "      <th></th>\n",
       "      <th>folio</th>\n",
       "      <th>codigo_cierre</th>\n",
       "      <th>delegacion_inicio</th>\n",
       "      <th>incidente_c4</th>\n",
       "      <th>latitud</th>\n",
       "      <th>longitud</th>\n",
       "      <th>clas_con_f_alarma</th>\n",
       "      <th>tipo_entrada</th>\n",
       "      <th>delegacion_cierre</th>\n",
       "      <th>geopoint</th>\n",
       "      <th>mes</th>\n",
       "      <th>fecha_hora_cierre</th>\n",
       "      <th>fecha_hora_creacion</th>\n",
       "    </tr>\n",
       "  </thead>\n",
       "  <tbody>\n",
       "    <tr>\n",
       "      <th>0</th>\n",
       "      <td>C5/170622/06952</td>\n",
       "      <td>(D) El incidente reportado se registró en dos ...</td>\n",
       "      <td>MILPA ALTA</td>\n",
       "      <td>accidente-choque sin lesionados</td>\n",
       "      <td>19.20137</td>\n",
       "      <td>-99.00732</td>\n",
       "      <td>EMERGENCIA</td>\n",
       "      <td>LLAMADA DEL 911</td>\n",
       "      <td>MILPA ALTA</td>\n",
       "      <td>19.20137004,-99.00731988</td>\n",
       "      <td>6</td>\n",
       "      <td>2017-06-22 20:39:42</td>\n",
       "      <td>2017-06-22 20:34:45</td>\n",
       "    </tr>\n",
       "    <tr>\n",
       "      <th>1</th>\n",
       "      <td>C5/170622/05115</td>\n",
       "      <td>(D) El incidente reportado se registró en dos ...</td>\n",
       "      <td>TLAHUAC</td>\n",
       "      <td>accidente-choque sin lesionados</td>\n",
       "      <td>19.29659</td>\n",
       "      <td>-99.03443</td>\n",
       "      <td>EMERGENCIA</td>\n",
       "      <td>LLAMADA DEL 911</td>\n",
       "      <td>TLAHUAC</td>\n",
       "      <td>19.29659004,-99.03443004</td>\n",
       "      <td>6</td>\n",
       "      <td>2017-06-22 16:46:02</td>\n",
       "      <td>2017-06-22 16:41:14</td>\n",
       "    </tr>\n",
       "    <tr>\n",
       "      <th>2</th>\n",
       "      <td>C5/170622/03715</td>\n",
       "      <td>(N) La unidad de atención a emergencias fue de...</td>\n",
       "      <td>VENUSTIANO CARRANZA</td>\n",
       "      <td>accidente-choque sin lesionados</td>\n",
       "      <td>19.43053</td>\n",
       "      <td>-99.05260</td>\n",
       "      <td>EMERGENCIA</td>\n",
       "      <td>LLAMADA DEL 911</td>\n",
       "      <td>VENUSTIANO CARRANZA</td>\n",
       "      <td>19.43053002,-99.05259996</td>\n",
       "      <td>6</td>\n",
       "      <td>2017-06-22 16:48:07</td>\n",
       "      <td>2017-06-22 13:44:52</td>\n",
       "    </tr>\n",
       "    <tr>\n",
       "      <th>3</th>\n",
       "      <td>C5/170622/05317</td>\n",
       "      <td>(D) El incidente reportado se registró en dos ...</td>\n",
       "      <td>IZTAPALAPA</td>\n",
       "      <td>accidente-choque con lesionados</td>\n",
       "      <td>19.36189</td>\n",
       "      <td>-99.12243</td>\n",
       "      <td>URGENCIAS MEDICAS</td>\n",
       "      <td>LLAMADA DEL 911</td>\n",
       "      <td>IZTAPALAPA</td>\n",
       "      <td>19.36188999,-99.12242988</td>\n",
       "      <td>6</td>\n",
       "      <td>2017-06-22 17:20:34</td>\n",
       "      <td>2017-06-22 17:08:58</td>\n",
       "    </tr>\n",
       "    <tr>\n",
       "      <th>4</th>\n",
       "      <td>C5/170622/05348</td>\n",
       "      <td>(D) El incidente reportado se registró en dos ...</td>\n",
       "      <td>IZTAPALAPA</td>\n",
       "      <td>accidente-choque con lesionados</td>\n",
       "      <td>19.36168</td>\n",
       "      <td>-99.12210</td>\n",
       "      <td>URGENCIAS MEDICAS</td>\n",
       "      <td>LLAMADA DEL 911</td>\n",
       "      <td>IZTAPALAPA</td>\n",
       "      <td>19.36168002,-99.12210012</td>\n",
       "      <td>6</td>\n",
       "      <td>2017-06-22 17:25:27</td>\n",
       "      <td>2017-06-22 17:12:38</td>\n",
       "    </tr>\n",
       "  </tbody>\n",
       "</table>\n",
       "</div>"
      ],
      "text/plain": [
       "             folio                                      codigo_cierre  \\\n",
       "0  C5/170622/06952  (D) El incidente reportado se registró en dos ...   \n",
       "1  C5/170622/05115  (D) El incidente reportado se registró en dos ...   \n",
       "2  C5/170622/03715  (N) La unidad de atención a emergencias fue de...   \n",
       "3  C5/170622/05317  (D) El incidente reportado se registró en dos ...   \n",
       "4  C5/170622/05348  (D) El incidente reportado se registró en dos ...   \n",
       "\n",
       "     delegacion_inicio                     incidente_c4   latitud  longitud  \\\n",
       "0           MILPA ALTA  accidente-choque sin lesionados  19.20137 -99.00732   \n",
       "1              TLAHUAC  accidente-choque sin lesionados  19.29659 -99.03443   \n",
       "2  VENUSTIANO CARRANZA  accidente-choque sin lesionados  19.43053 -99.05260   \n",
       "3           IZTAPALAPA  accidente-choque con lesionados  19.36189 -99.12243   \n",
       "4           IZTAPALAPA  accidente-choque con lesionados  19.36168 -99.12210   \n",
       "\n",
       "   clas_con_f_alarma     tipo_entrada    delegacion_cierre  \\\n",
       "0         EMERGENCIA  LLAMADA DEL 911           MILPA ALTA   \n",
       "1         EMERGENCIA  LLAMADA DEL 911              TLAHUAC   \n",
       "2         EMERGENCIA  LLAMADA DEL 911  VENUSTIANO CARRANZA   \n",
       "3  URGENCIAS MEDICAS  LLAMADA DEL 911           IZTAPALAPA   \n",
       "4  URGENCIAS MEDICAS  LLAMADA DEL 911           IZTAPALAPA   \n",
       "\n",
       "                   geopoint  mes   fecha_hora_cierre fecha_hora_creacion  \n",
       "0  19.20137004,-99.00731988    6 2017-06-22 20:39:42 2017-06-22 20:34:45  \n",
       "1  19.29659004,-99.03443004    6 2017-06-22 16:46:02 2017-06-22 16:41:14  \n",
       "2  19.43053002,-99.05259996    6 2017-06-22 16:48:07 2017-06-22 13:44:52  \n",
       "3  19.36188999,-99.12242988    6 2017-06-22 17:20:34 2017-06-22 17:08:58  \n",
       "4  19.36168002,-99.12210012    6 2017-06-22 17:25:27 2017-06-22 17:12:38  "
      ]
     },
     "execution_count": 54,
     "metadata": {},
     "output_type": "execute_result"
    }
   ],
   "source": [
    "dt.head()"
   ]
  },
  {
   "cell_type": "code",
   "execution_count": 55,
   "metadata": {},
   "outputs": [
    {
     "data": {
      "text/plain": [
       "folio                      0\n",
       "codigo_cierre              0\n",
       "delegacion_inicio         59\n",
       "incidente_c4               0\n",
       "latitud                  443\n",
       "longitud                 435\n",
       "clas_con_f_alarma          0\n",
       "tipo_entrada               0\n",
       "delegacion_cierre         41\n",
       "geopoint               13393\n",
       "mes                        0\n",
       "fecha_hora_cierre          2\n",
       "fecha_hora_creacion        0\n",
       "dtype: int64"
      ]
     },
     "execution_count": 55,
     "metadata": {},
     "output_type": "execute_result"
    }
   ],
   "source": [
    "dt.isnull().sum()"
   ]
  },
  {
   "cell_type": "code",
   "execution_count": 62,
   "metadata": {},
   "outputs": [
    {
     "data": {
      "text/plain": [
       "<AxesSubplot:>"
      ]
     },
     "execution_count": 62,
     "metadata": {},
     "output_type": "execute_result"
    },
    {
     "data": {
      "image/png": "[encoded data removed]",
      "text/plain": [
       "<Figure size 1800x720 with 2 Axes>"
      ]
     },
     "metadata": {
      "needs_background": "light"
     },
     "output_type": "display_data"
    }
   ],
   "source": [
    "import missingno as msno\n",
    "msno.matrix(dt)"
   ]
  },
  {
   "cell_type": "code",
   "execution_count": 63,
   "metadata": {},
   "outputs": [],
   "source": [
    "dt.drop(columns=[\"geopoint\"], inplace = True)"
   ]
  },
  {
   "cell_type": "code",
   "execution_count": 65,
   "metadata": {},
   "outputs": [],
   "source": [
    "dt.dropna(inplace = True)"
   ]
  },
  {
   "cell_type": "code",
   "execution_count": 66,
   "metadata": {},
   "outputs": [
    {
     "data": {
      "text/plain": [
       "folio                  0\n",
       "codigo_cierre          0\n",
       "delegacion_inicio      0\n",
       "incidente_c4           0\n",
       "latitud                0\n",
       "longitud               0\n",
       "clas_con_f_alarma      0\n",
       "tipo_entrada           0\n",
       "delegacion_cierre      0\n",
       "mes                    0\n",
       "fecha_hora_cierre      0\n",
       "fecha_hora_creacion    0\n",
       "dtype: int64"
      ]
     },
     "execution_count": 66,
     "metadata": {},
     "output_type": "execute_result"
    }
   ],
   "source": [
    "dt.isnull().sum()"
   ]
  },
  {
   "cell_type": "code",
   "execution_count": 57,
   "metadata": {},
   "outputs": [
    {
     "data": {
      "text/plain": [
       "array(['(D) El incidente reportado se registró en dos o más ocasiones procediendo a mantener un único reporte (afirmativo, informativo, negativo o falso) como el identificador para el incidente',\n",
       "       '(N) La unidad de atención a emergencias fue despachada, llegó al lugar de los hechos, pero en el sitio del evento nadie solicitó el apoyo de la unidad',\n",
       "       '(A) La unidad de atención a emergencias fue despachada, llegó al lugar de los hechos y confirmó la emergencia reportada',\n",
       "       '(F) El operador/a o despachador/a identifican, antes de dar respuesta a la emergencia, que ésta es falsa. O al ser despachada una unidad de atención a emergencias en el lugar de los hechos se percatan que el incidente no corresponde al reportado inicialmente',\n",
       "       '(I) El incidente reportado es afirmativo y se añade información adicional al evento',\n",
       "       'D', 'A', 'N', 'F', 'I'], dtype=object)"
      ]
     },
     "execution_count": 57,
     "metadata": {},
     "output_type": "execute_result"
    }
   ],
   "source": [
    "dt[\"codigo_cierre\"].unique()"
   ]
  },
  {
   "cell_type": "code",
   "execution_count": 61,
   "metadata": {},
   "outputs": [
    {
     "data": {
      "text/html": [
       "<div>\n",
       "<style scoped>\n",
       "    .dataframe tbody tr th:only-of-type {\n",
       "        vertical-align: middle;\n",
       "    }\n",
       "\n",
       "    .dataframe tbody tr th {\n",
       "        vertical-align: top;\n",
       "    }\n",
       "\n",
       "    .dataframe thead th {\n",
       "        text-align: right;\n",
       "    }\n",
       "</style>\n",
       "<table border=\"1\" class=\"dataframe\">\n",
       "  <thead>\n",
       "    <tr style=\"text-align: right;\">\n",
       "      <th></th>\n",
       "      <th>folio</th>\n",
       "      <th>codigo_cierre</th>\n",
       "      <th>delegacion_inicio</th>\n",
       "      <th>incidente_c4</th>\n",
       "      <th>latitud</th>\n",
       "      <th>longitud</th>\n",
       "      <th>clas_con_f_alarma</th>\n",
       "      <th>tipo_entrada</th>\n",
       "      <th>delegacion_cierre</th>\n",
       "      <th>geopoint</th>\n",
       "      <th>mes</th>\n",
       "      <th>fecha_hora_cierre</th>\n",
       "      <th>fecha_hora_creacion</th>\n",
       "    </tr>\n",
       "  </thead>\n",
       "  <tbody>\n",
       "    <tr>\n",
       "      <th>0</th>\n",
       "      <td>C5/170622/06952</td>\n",
       "      <td>(D) El incidente reportado se registró en dos ...</td>\n",
       "      <td>MILPA ALTA</td>\n",
       "      <td>accidente-choque sin lesionados</td>\n",
       "      <td>19.20137</td>\n",
       "      <td>-99.00732</td>\n",
       "      <td>EMERGENCIA</td>\n",
       "      <td>LLAMADA DEL 911</td>\n",
       "      <td>MILPA ALTA</td>\n",
       "      <td>19.20137004,-99.00731988</td>\n",
       "      <td>6</td>\n",
       "      <td>2017-06-22 20:39:42</td>\n",
       "      <td>2017-06-22 20:34:45</td>\n",
       "    </tr>\n",
       "    <tr>\n",
       "      <th>1</th>\n",
       "      <td>C5/170622/05115</td>\n",
       "      <td>(D) El incidente reportado se registró en dos ...</td>\n",
       "      <td>TLAHUAC</td>\n",
       "      <td>accidente-choque sin lesionados</td>\n",
       "      <td>19.29659</td>\n",
       "      <td>-99.03443</td>\n",
       "      <td>EMERGENCIA</td>\n",
       "      <td>LLAMADA DEL 911</td>\n",
       "      <td>TLAHUAC</td>\n",
       "      <td>19.29659004,-99.03443004</td>\n",
       "      <td>6</td>\n",
       "      <td>2017-06-22 16:46:02</td>\n",
       "      <td>2017-06-22 16:41:14</td>\n",
       "    </tr>\n",
       "    <tr>\n",
       "      <th>3</th>\n",
       "      <td>C5/170622/05317</td>\n",
       "      <td>(D) El incidente reportado se registró en dos ...</td>\n",
       "      <td>IZTAPALAPA</td>\n",
       "      <td>accidente-choque con lesionados</td>\n",
       "      <td>19.36189</td>\n",
       "      <td>-99.12243</td>\n",
       "      <td>URGENCIAS MEDICAS</td>\n",
       "      <td>LLAMADA DEL 911</td>\n",
       "      <td>IZTAPALAPA</td>\n",
       "      <td>19.36188999,-99.12242988</td>\n",
       "      <td>6</td>\n",
       "      <td>2017-06-22 17:20:34</td>\n",
       "      <td>2017-06-22 17:08:58</td>\n",
       "    </tr>\n",
       "    <tr>\n",
       "      <th>4</th>\n",
       "      <td>C5/170622/05348</td>\n",
       "      <td>(D) El incidente reportado se registró en dos ...</td>\n",
       "      <td>IZTAPALAPA</td>\n",
       "      <td>accidente-choque con lesionados</td>\n",
       "      <td>19.36168</td>\n",
       "      <td>-99.12210</td>\n",
       "      <td>URGENCIAS MEDICAS</td>\n",
       "      <td>LLAMADA DEL 911</td>\n",
       "      <td>IZTAPALAPA</td>\n",
       "      <td>19.36168002,-99.12210012</td>\n",
       "      <td>6</td>\n",
       "      <td>2017-06-22 17:25:27</td>\n",
       "      <td>2017-06-22 17:12:38</td>\n",
       "    </tr>\n",
       "    <tr>\n",
       "      <th>6</th>\n",
       "      <td>C5/170622/03505</td>\n",
       "      <td>(D) El incidente reportado se registró en dos ...</td>\n",
       "      <td>MIGUEL HIDALGO</td>\n",
       "      <td>accidente-choque sin lesionados</td>\n",
       "      <td>19.39240</td>\n",
       "      <td>-99.23910</td>\n",
       "      <td>EMERGENCIA</td>\n",
       "      <td>LLAMADA DEL 911</td>\n",
       "      <td>MIGUEL HIDALGO</td>\n",
       "      <td>19.3924,-99.2391</td>\n",
       "      <td>6</td>\n",
       "      <td>2017-06-22 13:43:48</td>\n",
       "      <td>2017-06-22 13:14:43</td>\n",
       "    </tr>\n",
       "    <tr>\n",
       "      <th>...</th>\n",
       "      <td>...</td>\n",
       "      <td>...</td>\n",
       "      <td>...</td>\n",
       "      <td>...</td>\n",
       "      <td>...</td>\n",
       "      <td>...</td>\n",
       "      <td>...</td>\n",
       "      <td>...</td>\n",
       "      <td>...</td>\n",
       "      <td>...</td>\n",
       "      <td>...</td>\n",
       "      <td>...</td>\n",
       "      <td>...</td>\n",
       "    </tr>\n",
       "    <tr>\n",
       "      <th>693684</th>\n",
       "      <td>C5/210228/09247</td>\n",
       "      <td>D</td>\n",
       "      <td>ALVARO OBREGON</td>\n",
       "      <td>accidente-choque sin lesionados</td>\n",
       "      <td>19.32522</td>\n",
       "      <td>-99.21411</td>\n",
       "      <td>EMERGENCIA</td>\n",
       "      <td>LLAMADA DEL 911</td>\n",
       "      <td>ALVARO OBREGON</td>\n",
       "      <td>NaN</td>\n",
       "      <td>2</td>\n",
       "      <td>2021-02-28 22:29:18</td>\n",
       "      <td>2021-02-28 22:26:34</td>\n",
       "    </tr>\n",
       "    <tr>\n",
       "      <th>693685</th>\n",
       "      <td>C5/210228/09249</td>\n",
       "      <td>D</td>\n",
       "      <td>MIGUEL HIDALGO</td>\n",
       "      <td>accidente-choque con lesionados</td>\n",
       "      <td>19.39484</td>\n",
       "      <td>-99.23953</td>\n",
       "      <td>URGENCIAS MEDICAS</td>\n",
       "      <td>LLAMADA DEL 911</td>\n",
       "      <td>MIGUEL HIDALGO</td>\n",
       "      <td>NaN</td>\n",
       "      <td>2</td>\n",
       "      <td>2021-02-28 22:35:06</td>\n",
       "      <td>2021-02-28 22:27:30</td>\n",
       "    </tr>\n",
       "    <tr>\n",
       "      <th>693686</th>\n",
       "      <td>C5/210228/09250</td>\n",
       "      <td>D</td>\n",
       "      <td>ALVARO OBREGON</td>\n",
       "      <td>accidente-choque sin lesionados</td>\n",
       "      <td>19.39965</td>\n",
       "      <td>-99.19095</td>\n",
       "      <td>EMERGENCIA</td>\n",
       "      <td>LLAMADA DEL 911</td>\n",
       "      <td>ALVARO OBREGON</td>\n",
       "      <td>NaN</td>\n",
       "      <td>2</td>\n",
       "      <td>2021-02-28 22:30:01</td>\n",
       "      <td>2021-02-28 22:27:35</td>\n",
       "    </tr>\n",
       "    <tr>\n",
       "      <th>693687</th>\n",
       "      <td>C5/210228/09255</td>\n",
       "      <td>D</td>\n",
       "      <td>IZTACALCO</td>\n",
       "      <td>accidente-choque con lesionados</td>\n",
       "      <td>19.39508</td>\n",
       "      <td>-99.05895</td>\n",
       "      <td>URGENCIAS MEDICAS</td>\n",
       "      <td>LLAMADA DEL 911</td>\n",
       "      <td>IZTACALCO</td>\n",
       "      <td>NaN</td>\n",
       "      <td>2</td>\n",
       "      <td>2021-02-28 22:39:44</td>\n",
       "      <td>2021-02-28 22:28:35</td>\n",
       "    </tr>\n",
       "    <tr>\n",
       "      <th>693690</th>\n",
       "      <td>C5/210228/09405</td>\n",
       "      <td>D</td>\n",
       "      <td>MIGUEL HIDALGO</td>\n",
       "      <td>accidente-choque con lesionados</td>\n",
       "      <td>19.39677</td>\n",
       "      <td>-99.23712</td>\n",
       "      <td>URGENCIAS MEDICAS</td>\n",
       "      <td>LLAMADA DEL 911</td>\n",
       "      <td>MIGUEL HIDALGO</td>\n",
       "      <td>NaN</td>\n",
       "      <td>2</td>\n",
       "      <td>2021-02-28 22:49:07</td>\n",
       "      <td>2021-02-28 22:45:59</td>\n",
       "    </tr>\n",
       "  </tbody>\n",
       "</table>\n",
       "<p>324147 rows × 13 columns</p>\n",
       "</div>"
      ],
      "text/plain": [
       "                  folio                                      codigo_cierre  \\\n",
       "0       C5/170622/06952  (D) El incidente reportado se registró en dos ...   \n",
       "1       C5/170622/05115  (D) El incidente reportado se registró en dos ...   \n",
       "3       C5/170622/05317  (D) El incidente reportado se registró en dos ...   \n",
       "4       C5/170622/05348  (D) El incidente reportado se registró en dos ...   \n",
       "6       C5/170622/03505  (D) El incidente reportado se registró en dos ...   \n",
       "...                 ...                                                ...   \n",
       "693684  C5/210228/09247                                                  D   \n",
       "693685  C5/210228/09249                                                  D   \n",
       "693686  C5/210228/09250                                                  D   \n",
       "693687  C5/210228/09255                                                  D   \n",
       "693690  C5/210228/09405                                                  D   \n",
       "\n",
       "       delegacion_inicio                     incidente_c4   latitud  longitud  \\\n",
       "0             MILPA ALTA  accidente-choque sin lesionados  19.20137 -99.00732   \n",
       "1                TLAHUAC  accidente-choque sin lesionados  19.29659 -99.03443   \n",
       "3             IZTAPALAPA  accidente-choque con lesionados  19.36189 -99.12243   \n",
       "4             IZTAPALAPA  accidente-choque con lesionados  19.36168 -99.12210   \n",
       "6         MIGUEL HIDALGO  accidente-choque sin lesionados  19.39240 -99.23910   \n",
       "...                  ...                              ...       ...       ...   \n",
       "693684    ALVARO OBREGON  accidente-choque sin lesionados  19.32522 -99.21411   \n",
       "693685    MIGUEL HIDALGO  accidente-choque con lesionados  19.39484 -99.23953   \n",
       "693686    ALVARO OBREGON  accidente-choque sin lesionados  19.39965 -99.19095   \n",
       "693687         IZTACALCO  accidente-choque con lesionados  19.39508 -99.05895   \n",
       "693690    MIGUEL HIDALGO  accidente-choque con lesionados  19.39677 -99.23712   \n",
       "\n",
       "        clas_con_f_alarma     tipo_entrada delegacion_cierre  \\\n",
       "0              EMERGENCIA  LLAMADA DEL 911        MILPA ALTA   \n",
       "1              EMERGENCIA  LLAMADA DEL 911           TLAHUAC   \n",
       "3       URGENCIAS MEDICAS  LLAMADA DEL 911        IZTAPALAPA   \n",
       "4       URGENCIAS MEDICAS  LLAMADA DEL 911        IZTAPALAPA   \n",
       "6              EMERGENCIA  LLAMADA DEL 911    MIGUEL HIDALGO   \n",
       "...                   ...              ...               ...   \n",
       "693684         EMERGENCIA  LLAMADA DEL 911    ALVARO OBREGON   \n",
       "693685  URGENCIAS MEDICAS  LLAMADA DEL 911    MIGUEL HIDALGO   \n",
       "693686         EMERGENCIA  LLAMADA DEL 911    ALVARO OBREGON   \n",
       "693687  URGENCIAS MEDICAS  LLAMADA DEL 911         IZTACALCO   \n",
       "693690  URGENCIAS MEDICAS  LLAMADA DEL 911    MIGUEL HIDALGO   \n",
       "\n",
       "                        geopoint  mes   fecha_hora_cierre fecha_hora_creacion  \n",
       "0       19.20137004,-99.00731988    6 2017-06-22 20:39:42 2017-06-22 20:34:45  \n",
       "1       19.29659004,-99.03443004    6 2017-06-22 16:46:02 2017-06-22 16:41:14  \n",
       "3       19.36188999,-99.12242988    6 2017-06-22 17:20:34 2017-06-22 17:08:58  \n",
       "4       19.36168002,-99.12210012    6 2017-06-22 17:25:27 2017-06-22 17:12:38  \n",
       "6               19.3924,-99.2391    6 2017-06-22 13:43:48 2017-06-22 13:14:43  \n",
       "...                          ...  ...                 ...                 ...  \n",
       "693684                       NaN    2 2021-02-28 22:29:18 2021-02-28 22:26:34  \n",
       "693685                       NaN    2 2021-02-28 22:35:06 2021-02-28 22:27:30  \n",
       "693686                       NaN    2 2021-02-28 22:30:01 2021-02-28 22:27:35  \n",
       "693687                       NaN    2 2021-02-28 22:39:44 2021-02-28 22:28:35  \n",
       "693690                       NaN    2 2021-02-28 22:49:07 2021-02-28 22:45:59  \n",
       "\n",
       "[324147 rows x 13 columns]"
      ]
     },
     "execution_count": 61,
     "metadata": {},
     "output_type": "execute_result"
    }
   ],
   "source": [
    "dt[dt['codigo_cierre'].str.contains(\"D\", regex=True)]"
   ]
  },
  {
   "cell_type": "code",
   "execution_count": 23,
   "metadata": {},
   "outputs": [
    {
     "ename": "AttributeError",
     "evalue": "Can only use .dt accessor with datetimelike values",
     "output_type": "error",
     "traceback": [
      "\u001b[1;31m---------------------------------------------------------------------------\u001b[0m",
      "\u001b[1;31mAttributeError\u001b[0m                            Traceback (most recent call last)",
      "\u001b[1;32m<ipython-input-23-b81dcd6ac230>\u001b[0m in \u001b[0;36m<module>\u001b[1;34m\u001b[0m\n\u001b[1;32m----> 1\u001b[1;33m \u001b[0mdf\u001b[0m\u001b[1;33m[\u001b[0m\u001b[0mdf\u001b[0m\u001b[1;33m[\u001b[0m\u001b[1;34m\"fecha_creacion\"\u001b[0m\u001b[1;33m]\u001b[0m\u001b[1;33m.\u001b[0m\u001b[0mdt\u001b[0m\u001b[1;33m.\u001b[0m\u001b[0myear\u001b[0m\u001b[1;33m]\u001b[0m\u001b[1;33m\u001b[0m\u001b[1;33m\u001b[0m\u001b[0m\n\u001b[0m",
      "\u001b[1;32m~\\AppData\\Local\\Programs\\Python\\Python39\\lib\\site-packages\\pandas\\core\\generic.py\u001b[0m in \u001b[0;36m__getattr__\u001b[1;34m(self, name)\u001b[0m\n\u001b[0;32m   5459\u001b[0m             \u001b[1;32mor\u001b[0m \u001b[0mname\u001b[0m \u001b[1;32min\u001b[0m \u001b[0mself\u001b[0m\u001b[1;33m.\u001b[0m\u001b[0m_accessors\u001b[0m\u001b[1;33m\u001b[0m\u001b[1;33m\u001b[0m\u001b[0m\n\u001b[0;32m   5460\u001b[0m         ):\n\u001b[1;32m-> 5461\u001b[1;33m             \u001b[1;32mreturn\u001b[0m \u001b[0mobject\u001b[0m\u001b[1;33m.\u001b[0m\u001b[0m__getattribute__\u001b[0m\u001b[1;33m(\u001b[0m\u001b[0mself\u001b[0m\u001b[1;33m,\u001b[0m \u001b[0mname\u001b[0m\u001b[1;33m)\u001b[0m\u001b[1;33m\u001b[0m\u001b[1;33m\u001b[0m\u001b[0m\n\u001b[0m\u001b[0;32m   5462\u001b[0m         \u001b[1;32melse\u001b[0m\u001b[1;33m:\u001b[0m\u001b[1;33m\u001b[0m\u001b[1;33m\u001b[0m\u001b[0m\n\u001b[0;32m   5463\u001b[0m             \u001b[1;32mif\u001b[0m \u001b[0mself\u001b[0m\u001b[1;33m.\u001b[0m\u001b[0m_info_axis\u001b[0m\u001b[1;33m.\u001b[0m\u001b[0m_can_hold_identifiers_and_holds_name\u001b[0m\u001b[1;33m(\u001b[0m\u001b[0mname\u001b[0m\u001b[1;33m)\u001b[0m\u001b[1;33m:\u001b[0m\u001b[1;33m\u001b[0m\u001b[1;33m\u001b[0m\u001b[0m\n",
      "\u001b[1;32m~\\AppData\\Local\\Programs\\Python\\Python39\\lib\\site-packages\\pandas\\core\\accessor.py\u001b[0m in \u001b[0;36m__get__\u001b[1;34m(self, obj, cls)\u001b[0m\n\u001b[0;32m    178\u001b[0m             \u001b[1;31m# we're accessing the attribute of the class, i.e., Dataset.geo\u001b[0m\u001b[1;33m\u001b[0m\u001b[1;33m\u001b[0m\u001b[1;33m\u001b[0m\u001b[0m\n\u001b[0;32m    179\u001b[0m             \u001b[1;32mreturn\u001b[0m \u001b[0mself\u001b[0m\u001b[1;33m.\u001b[0m\u001b[0m_accessor\u001b[0m\u001b[1;33m\u001b[0m\u001b[1;33m\u001b[0m\u001b[0m\n\u001b[1;32m--> 180\u001b[1;33m         \u001b[0maccessor_obj\u001b[0m \u001b[1;33m=\u001b[0m \u001b[0mself\u001b[0m\u001b[1;33m.\u001b[0m\u001b[0m_accessor\u001b[0m\u001b[1;33m(\u001b[0m\u001b[0mobj\u001b[0m\u001b[1;33m)\u001b[0m\u001b[1;33m\u001b[0m\u001b[1;33m\u001b[0m\u001b[0m\n\u001b[0m\u001b[0;32m    181\u001b[0m         \u001b[1;31m# Replace the property with the accessor object. Inspired by:\u001b[0m\u001b[1;33m\u001b[0m\u001b[1;33m\u001b[0m\u001b[1;33m\u001b[0m\u001b[0m\n\u001b[0;32m    182\u001b[0m         \u001b[1;31m# https://www.pydanny.com/cached-property.html\u001b[0m\u001b[1;33m\u001b[0m\u001b[1;33m\u001b[0m\u001b[1;33m\u001b[0m\u001b[0m\n",
      "\u001b[1;32m~\\AppData\\Local\\Programs\\Python\\Python39\\lib\\site-packages\\pandas\\core\\indexes\\accessors.py\u001b[0m in \u001b[0;36m__new__\u001b[1;34m(cls, data)\u001b[0m\n\u001b[0;32m    492\u001b[0m             \u001b[1;32mreturn\u001b[0m \u001b[0mPeriodProperties\u001b[0m\u001b[1;33m(\u001b[0m\u001b[0mdata\u001b[0m\u001b[1;33m,\u001b[0m \u001b[0morig\u001b[0m\u001b[1;33m)\u001b[0m\u001b[1;33m\u001b[0m\u001b[1;33m\u001b[0m\u001b[0m\n\u001b[0;32m    493\u001b[0m \u001b[1;33m\u001b[0m\u001b[0m\n\u001b[1;32m--> 494\u001b[1;33m         \u001b[1;32mraise\u001b[0m \u001b[0mAttributeError\u001b[0m\u001b[1;33m(\u001b[0m\u001b[1;34m\"Can only use .dt accessor with datetimelike values\"\u001b[0m\u001b[1;33m)\u001b[0m\u001b[1;33m\u001b[0m\u001b[1;33m\u001b[0m\u001b[0m\n\u001b[0m",
      "\u001b[1;31mAttributeError\u001b[0m: Can only use .dt accessor with datetimelike values"
     ]
    }
   ],
   "source": [
    "df[df[\"fecha_creacion\"].dt.year]"
   ]
  },
  {
   "cell_type": "code",
   "execution_count": null,
   "metadata": {},
   "outputs": [],
   "source": []
  }
 ],
 "metadata": {
  "kernelspec": {
   "display_name": "Python 3",
   "language": "python",
   "name": "python3"
  },
  "language_info": {
   "codemirror_mode": {
    "name": "ipython",
    "version": 3
   },
   "file_extension": ".py",
   "mimetype": "text/x-python",
   "name": "python",
   "nbconvert_exporter": "python",
   "pygments_lexer": "ipython3",
   "version": "3.9.2"
  }
 },
 "nbformat": 4,
 "nbformat_minor": 4
}
